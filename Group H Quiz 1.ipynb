{
 "cells": [
  {
   "cell_type": "code",
   "execution_count": 3,
   "id": "4598d4c4-fe11-48e9-ad89-56fe216fc55a",
   "metadata": {},
   "outputs": [
    {
     "name": "stdout",
     "output_type": "stream",
     "text": [
      "\u001b[34m *************************************************\n",
      "\u001b[34m *            // who wants to be a \\\\            *\n",
      "\u001b[36m *            ||    MILLIONAIRE!    ||           *\n",
      "\u001b[34m *            \\\\ who wants to be a //            *\n",
      "\u001b[34m *************************************************\n",
      "\n",
      "\u001b[39m\n",
      "\u001b[36m Welcome to the show \"Who Wants to Be a Millionaire!\"\n",
      "\n",
      "\u001b[39m\n",
      "Instructions: This quiz contains 12 questions. Each question has 4 options. For each question you answer correctly you get $100, if you answer incorrectly, the game ends and you get to keep the prize money you have earned thus far. If you get all the questions correct you win $1200\n",
      "\u001b[31mNote: you must answer using A, B, C or D\n",
      " \n"
     ]
    },
    {
     "name": "stdin",
     "output_type": "stream",
     "text": [
      "What is your name? Anya\n"
     ]
    },
    {
     "name": "stdout",
     "output_type": "stream",
     "text": [
      "Hello Anya . Good Luck.\n"
     ]
    },
    {
     "name": "stdin",
     "output_type": "stream",
     "text": [
      "Would you like to start? (Type Y for yes and N for no) Y\n"
     ]
    },
    {
     "name": "stdout",
     "output_type": "stream",
     "text": [
      " \n",
      "\u001b[34mThe first category is ecology\n",
      "\u001b[39m\n",
      "1. What does it mean when an animal is a frugivore?\n",
      " A. it lives on fruit plants \n",
      " B. it mostly eats raw fruits \n",
      " C. it helps pollinate fruit plants \n",
      " D. it eats fruits and nuts\n"
     ]
    },
    {
     "name": "stdin",
     "output_type": "stream",
     "text": [
      "> b\n"
     ]
    },
    {
     "name": "stdout",
     "output_type": "stream",
     "text": [
      "\u001b[32mCorrect, your prize money is now $ 100\n",
      "\u001b[39m\n",
      "2. Which of the following is an example of a host-parasite relationship?\n",
      " A. a vine getting support from a bigger plant \n",
      " B. a tick living on a cat \n",
      " C. a rhino living in the same area as an elephant \n",
      " D. a vulture killing a bird\n"
     ]
    },
    {
     "name": "stdin",
     "output_type": "stream",
     "text": [
      "> b\n"
     ]
    },
    {
     "name": "stdout",
     "output_type": "stream",
     "text": [
      "\u001b[32mCorrect, your prize money is nown $ 200\n",
      "\u001b[39m\n",
      "3. Plants in the same habitat do not compete for which of the following factors?\n",
      " A. Heat \n",
      " B. Minerals \n",
      " C. Light \n",
      " D. Water\n"
     ]
    },
    {
     "name": "stdin",
     "output_type": "stream",
     "text": [
      "> a\n"
     ]
    },
    {
     "name": "stdout",
     "output_type": "stream",
     "text": [
      "\u001b[32mCorrect, your prize money is now $ 300\n",
      "\u001b[39m\n",
      "4. Which of the following is not a greenhouse gas?\n",
      " A. Methane \n",
      " B. Nitrous Oxide \n",
      " C. Ozone \n",
      " D. Hydrogen\n"
     ]
    },
    {
     "name": "stdin",
     "output_type": "stream",
     "text": [
      "> d\n"
     ]
    },
    {
     "name": "stdout",
     "output_type": "stream",
     "text": [
      "\u001b[32mCorrect, your prize money is now $ 400\n",
      "\u001b[39m\n",
      " \n",
      "\u001b[34mThe second category is anatomy\n",
      "\u001b[39m\n",
      " \n",
      "5. The average life tastebud is:\n",
      " A. 10 days \n",
      " B. 10 weeks \n",
      " C. 10 months \n",
      " D. 10 years\n"
     ]
    },
    {
     "name": "stdin",
     "output_type": "stream",
     "text": [
      "> a\n"
     ]
    },
    {
     "name": "stdout",
     "output_type": "stream",
     "text": [
      "\u001b[32mCorrect, your prize money is now $ 500\n",
      "\u001b[39m\n",
      "6. What is the largest muscle in the body?\n",
      " A. Quadriceps \n",
      " B. Gluteus Maximus \n",
      " C. Biceps \n",
      " D. Intercostal muscles\n"
     ]
    },
    {
     "name": "stdin",
     "output_type": "stream",
     "text": [
      "> b\n"
     ]
    },
    {
     "name": "stdout",
     "output_type": "stream",
     "text": [
      "\u001b[32mCorrect, your prize money is now $ 600\n",
      "\u001b[39m\n",
      "7. Roughly how long is the oesophagus?\n",
      " A. 1 metre \n",
      " B. 4.5cm \n",
      " C. 8 inches \n",
      " D. 16mm\n"
     ]
    },
    {
     "name": "stdin",
     "output_type": "stream",
     "text": [
      "> c\n"
     ]
    },
    {
     "name": "stdout",
     "output_type": "stream",
     "text": [
      "\u001b[32mCorrect, your prize money is now $ 700\n",
      "\u001b[39m\n",
      "8. What is the hyoid\n",
      " A. a muscle \n",
      " B. a ligament \n",
      " C. a bone \n",
      " D. a small organ\n"
     ]
    },
    {
     "name": "stdin",
     "output_type": "stream",
     "text": [
      "> a\n"
     ]
    },
    {
     "name": "stdout",
     "output_type": "stream",
     "text": [
      "\u001b[31mIncorrect, you lose. Your final prize money is $ 700\n",
      "\u001b[35mThank you for playing 'Who wants to be a millionaire' by Anya, Annia and Kavya\n",
      "We hope you enjoyed!\n"
     ]
    }
   ],
   "source": [
    "import colorama \n",
    "from colorama import Fore\n",
    "from time import sleep \n",
    "\n",
    "print (Fore.BLUE + \" *************************************************\")\n",
    "sleep (0.5)\n",
    "print (Fore.BLUE + \" *            // who wants to be a \\\\\\            *\")\n",
    "sleep (0.5)\n",
    "print (Fore.CYAN + \" *            ||    MILLIONAIRE!    ||           *\")\n",
    "sleep (0.5)\n",
    "print (Fore.BLUE + \" *            \\\\\\ who wants to be a //            *\")\n",
    "sleep (0.5)\n",
    "print (Fore.BLUE + \" *************************************************\\n\")\n",
    "print(Fore.RESET)\n",
    "\n",
    "print (Fore.CYAN + \" Welcome to the show \\\"Who Wants to Be a Millionaire!\\\"\\n\")\n",
    "print(Fore.RESET)\n",
    "\n",
    "print (\"Instructions: This quiz contains 12 questions. Each question has 4 options. For each question you answer correctly you get $100, if you answer incorrectly, the game ends and you get to keep the prize money you have earned thus far. If you get all the questions correct you win $1200\")\n",
    "print ( Fore.RED + \"Note: you must answer using A, B, C or D\")\n",
    "print (\" \")\n",
    "\n",
    "question1 = (\"1. What does it mean when an animal is a frugivore?\")\n",
    "lives = 1\n",
    "prize_money = 0\n",
    "\n",
    "name = input (\"What is your name?\")\n",
    "print (\"Hello\",name,\". Good Luck.\")\n",
    "\n",
    "while lives != 0:\n",
    "    \n",
    "    play = input (\"Would you like to start? (Type Y for yes and N for no)\").upper()\n",
    "    if play == \"Y\":\n",
    "        print (\" \")\n",
    "        print ( Fore.BLUE + \"The first category is ecology\")\n",
    "        print ( Fore.RESET)\n",
    "        print(question1)\n",
    "    \n",
    "    elif play == \"N\":\n",
    "        print (Fore.RED + \"Game Over\")\n",
    "        break\n",
    "    else:\n",
    "        print (Fore.RED + \"Please input 'Y' for yes and 'N' for no.\\n\")\n",
    "\n",
    "\n",
    "    options1 = (\" A. it lives on fruit plants \\n B. it mostly eats raw fruits \\n C. it helps pollinate fruit plants \\n D. it eats fruits and nuts\")\n",
    "    print (options1)\n",
    "    answer = input (\">\").upper()\n",
    "    if answer == \"B\":\n",
    "        prize_money = prize_money + 100\n",
    "        print (Fore.GREEN + \"Correct, your prize money is now $\", prize_money)\n",
    "        print ( Fore.RESET)\n",
    "    else:\n",
    "        lives=lives-1\n",
    "        print(Fore.RED + \"Incorrect, you lose. Your final prize money is $\", prize_money)\n",
    "        break\n",
    "        \n",
    "    question2 = (\"2. Which of the following is an example of a host-parasite relationship?\")\n",
    "    options2 = (\" A. a vine getting support from a bigger plant \\n B. a tick living on a cat \\n C. a rhino living in the same area as an elephant \\n D. a vulture killing a bird\")\n",
    "    print (question2)\n",
    "    print (options2)\n",
    "    answer = input (\">\").upper ()\n",
    "    if answer == \"B\":\n",
    "        prize_money = prize_money + 100\n",
    "        print (Fore.GREEN + \"Correct, your prize money is nown $\", prize_money)\n",
    "        print ( Fore.RESET)\n",
    "    else:\n",
    "        print(Fore.RED + \"Incorrect, you lose. Your final prize money is $\", prize_money)\n",
    "        lives=lives-1\n",
    "        break\n",
    "        \n",
    "    question3 = (\"3. Plants in the same habitat do not compete for which of the following factors?\")\n",
    "    options3 = (\" A. Heat \\n B. Minerals \\n C. Light \\n D. Water\")\n",
    "    print (question3)\n",
    "    print (options3)\n",
    "    answer = input (\">\").upper ()\n",
    "    if answer == \"A\":\n",
    "        prize_money = prize_money + 100\n",
    "        print (Fore.GREEN + \"Correct, your prize money is now $\", prize_money)\n",
    "        print ( Fore.RESET)\n",
    "    else:\n",
    "        print(Fore.RED + \"Incorrect, you lose. Your final prize money is $\", prize_money)\n",
    "        lives=lives-1\n",
    "        break\n",
    "            \n",
    "    question4 = (\"4. Which of the following is not a greenhouse gas?\")\n",
    "    options4 = (\" A. Methane \\n B. Nitrous Oxide \\n C. Ozone \\n D. Hydrogen\")\n",
    "    print (question4)\n",
    "    print (options4)\n",
    "    answer = input (\">\").upper ()\n",
    "    if answer == \"D\":\n",
    "        prize_money = prize_money + 100\n",
    "        print (Fore.GREEN + \"Correct, your prize money is now $\", prize_money)\n",
    "        print ( Fore.RESET)\n",
    "    else:\n",
    "        print(Fore.RED + \"Incorrect, you lose. Your final prize money is $\", prize_money)\n",
    "        lives=lives-1\n",
    "        break\n",
    "    \n",
    "    print (\" \")\n",
    "    print (Fore.BLUE + \"The second category is anatomy\")\n",
    "    print ( Fore.RESET)\n",
    "    print (\" \")\n",
    "\n",
    "    question5 = (\"5. The average life tastebud is:\")\n",
    "    options5 = (\" A. 10 days \\n B. 10 weeks \\n C. 10 months \\n D. 10 years\")\n",
    "    print (question5)\n",
    "    print (options5)\n",
    "    answer = input (\">\").upper ()\n",
    "    if answer == \"A\":\n",
    "        prize_money = prize_money + 100\n",
    "        print (Fore.GREEN + \"Correct, your prize money is now $\", prize_money)\n",
    "        print ( Fore.RESET)\n",
    "    else:\n",
    "        print(Fore.RED + \"Incorrect, you lose. Your final prize money is $\", prize_money)\n",
    "        lives=lives-1\n",
    "        break\n",
    "        \n",
    "    question6 = (\"6. What is the largest muscle in the body?\")\n",
    "    options6 = (\" A. Quadriceps \\n B. Gluteus Maximus \\n C. Biceps \\n D. Intercostal muscles\")\n",
    "    print (question6)\n",
    "    print (options6)\n",
    "    answer = input (\">\").upper ()\n",
    "    if answer == \"B\":\n",
    "        prize_money = prize_money + 100\n",
    "        print (Fore.GREEN + \"Correct, your prize money is now $\", prize_money)\n",
    "        print ( Fore.RESET)\n",
    "    else:\n",
    "        print(Fore.RED + \"Incorrect, you lose. Your final prize money is $\", prize_money)\n",
    "        lives=lives-1\n",
    "        break\n",
    "        \n",
    "    question7 = (\"7. Roughly how long is the oesophagus?\")\n",
    "    options7 = (\" A. 1 metre \\n B. 4.5cm \\n C. 8 inches \\n D. 16mm\")\n",
    "    print (question7)\n",
    "    print (options7)\n",
    "    answer = input (\">\").upper ()\n",
    "    if answer == \"C\":\n",
    "        prize_money = prize_money + 100\n",
    "        print (Fore.GREEN + \"Correct, your prize money is now $\", prize_money)\n",
    "        print ( Fore.RESET)\n",
    "    else:\n",
    "        print(Fore.RED + \"Incorrect, you lose. Your final prize money is $\", prize_money)\n",
    "        lives=lives-1\n",
    "        break\n",
    "            \n",
    "    question8 = (\"8. What is the hyoid\")\n",
    "    options8 = (\" A. a muscle \\n B. a ligament \\n C. a bone \\n D. a small organ\")\n",
    "    print (question8)\n",
    "    print (options8)\n",
    "    answer = input (\">\").upper ()\n",
    "    if answer == \"C\":\n",
    "        prize_money = prize_money + 100\n",
    "        print (Fore.GREEN + \"Correct, your prize money is now $\", prize_money)\n",
    "        print ( Fore.RESET)\n",
    "    else:\n",
    "        print(Fore.RED + \"Incorrect, you lose. Your final prize money is $\", prize_money)\n",
    "        lives=lives-1\n",
    "        break\n",
    "    \n",
    "    print (\" \")\n",
    "    print (Fore.BLUE + \"The third and final category is genetics\")\n",
    "    print ( Fore.RESET)\n",
    "\n",
    "    print (\" \")\n",
    "    \n",
    "    question9 = (\"9. Down syndrome (Trisomy 21) is a consequence of which of the following erroneous genetic mechanisms?\")\n",
    "    options9 = (\" A. Non-disjunction \\n B. Recessive mutation \\n C. Incomplete penetrance \\n D. Pleiotropy\")\n",
    "    print (question9)\n",
    "    print (options9)\n",
    "    answer = input (\">\").upper ()\n",
    "    if answer == \"A\":\n",
    "        prize_money = prize_money + 100\n",
    "        print (Fore.GREEN + \"Correct, your prize money is now $\", prize_money)\n",
    "        print ( Fore.RESET)\n",
    "    else:\n",
    "        print(Fore.RED + \"Incorrect, you lose. Your final prize money is $\", prize_money)\n",
    "        lives=lives-1\n",
    "        break\n",
    "        \n",
    "    question10 = (\"10. Which kind of structural change of the chromosome contributes to Huntington's disease?\")\n",
    "    options10 = (\" A. Inversion \\n B. Duplication \\n C. Translocation 3 \\n D. Deletion\")\n",
    "    print (question10)\n",
    "    print (options10)\n",
    "    answer = input (\">\").upper ()\n",
    "    if answer == \"B\":\n",
    "        prize_money = prize_money + 100\n",
    "        print (Fore.GREEN + \"Correct, your prize money is now $\", prize_money)\n",
    "        print ( Fore.RESET)\n",
    "    else:\n",
    "        print(Fore.RED + \"Incorrect, you lose. Your final prize money is $\", prize_money)\n",
    "        lives=lives-1\n",
    "        break\n",
    "        \n",
    "    question11 = (\"11. What does the codon 'UUC' code for?\")\n",
    "    options11 = (\" A. Serine \\n B. Phenylalanine \\n C. Stop codon \\n D. Leucine\")\n",
    "    print (question11)\n",
    "    print (options11)\n",
    "    answer = input (\">\").upper ()\n",
    "    if answer == \"B\":\n",
    "        prize_money = prize_money + 100\n",
    "        print (Fore.GREEN + \"Correct, your prize money is now $\", prize_money)\n",
    "        print ( Fore.RESET)\n",
    "    else:\n",
    "        print(Fore.RED + \"Incorrect, you lose. Your final prize money is $\", prize_money)\n",
    "        lives=lives-1\n",
    "        break\n",
    "        \n",
    "    question12 = (\"12. Which of these statements is incorrect?\")\n",
    "    options12 = (\" A. All somatic cells are diploid \\n B. Crossing over occurs in meiosis prophase 1 \\n C. During meiosis prophase 2, the cell is diploid \\n D. The result of mitosis is two diploid cells\")\n",
    "    print (question12)\n",
    "    print (options12)\n",
    "    answer = input (\">\").upper ()\n",
    "    if answer == \"C\":\n",
    "        prize_money = prize_money + 100\n",
    "        print (Fore.GREEN + \"Correct, your prize money is now $\", prize_money)\n",
    "        print (\"Congratulations! You have reached the end of the quiz and gotten every question right!\")\n",
    "        print ( Fore.RESET)\n",
    "        break\n",
    "    else:\n",
    "        print(Fore.RED + \"Incorrect, you lose. Your final prize money is $\", prize_money)\n",
    "        lives=lives-1\n",
    "        break\n",
    "        \n",
    "print (Fore.MAGENTA + \"Thank you for playing 'Who wants to be a millionaire' by Anya, Annia and Kavya\")\n",
    "print (\"We hope you enjoyed!\")"
   ]
  },
  {
   "cell_type": "code",
   "execution_count": null,
   "id": "db3367d2-fbf9-4621-a193-ab71747422db",
   "metadata": {},
   "outputs": [],
   "source": []
  }
 ],
 "metadata": {
  "kernelspec": {
   "display_name": "Python 3 (ipykernel)",
   "language": "python",
   "name": "python3"
  },
  "language_info": {
   "codemirror_mode": {
    "name": "ipython",
    "version": 3
   },
   "file_extension": ".py",
   "mimetype": "text/x-python",
   "name": "python",
   "nbconvert_exporter": "python",
   "pygments_lexer": "ipython3",
   "version": "3.9.12"
  }
 },
 "nbformat": 4,
 "nbformat_minor": 5
}
