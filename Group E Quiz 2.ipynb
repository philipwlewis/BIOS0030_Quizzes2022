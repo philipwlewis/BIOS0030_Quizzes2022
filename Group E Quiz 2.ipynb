{
 "cells": [
  {
   "cell_type": "code",
   "execution_count": null,
   "id": "fba6fe75-47dc-4557-a441-4c5da2b4a861",
   "metadata": {},
   "outputs": [],
   "source": [
    "# By Aaron Fernandes, Rusne Sipelyte, Kiara Kok, Jiajun Zhang\n",
    "\n",
    "import random\n",
    "user_action = input(\"Enter a choice - rock, paper, scissors:\")\n",
    "possible_actions=[\"rock\", \"paper\", \"scissors\"]\n",
    "computer_action=random.choice(possible_actions)\n",
    "print(f\"\\nYou chose {user_action}, computer chose {computer_action}.\\n\")\n",
    "\n",
    "while True:\n",
    "    if user_action==computer_action:\n",
    "        print(f\"Both players selected {user_action}. It's a tie!\")\n",
    "        break\n",
    "    elif user_action==\"rock\" or user_action ==\"Rock\":\n",
    "        if computer_action == \"scissors\":\n",
    "            print(\"Rock smashes scissors! You win!\")\n",
    "            break\n",
    "        else:\n",
    "            print(\"Paper covers rock! You lose.\")\n",
    "            break\n",
    "    elif user_action== \"paper\" or user_action== \"Paper\":\n",
    "        if computer_action==\"rock\":\n",
    "            print(\"Paper covers rock! You win!\")\n",
    "            break\n",
    "        else:\n",
    "            print(\"Scissors cuts paper! You lose.\")\n",
    "            break\n",
    "    elif user_action== \"scissors\" or user_action== \"Scissors\":\n",
    "        if computer_action== \"paper\":\n",
    "            print(\"Scissors cuts paper! You win!\")\n",
    "            break\n",
    "        else:\n",
    "            print(\"Rock smashes scissors! You lose.\")\n",
    "            break\n",
    "    else:\n",
    "        print(\"Please enter a valid choice - rock, paper, scissors:\")\n",
    "        user_action = input(\"Enter a choice - rock, paper, scissors:\")"
   ]
  },
  {
   "cell_type": "code",
   "execution_count": null,
   "id": "3a7d75c7-b744-4ac6-8b7a-77917cb3394c",
   "metadata": {},
   "outputs": [],
   "source": []
  },
  {
   "cell_type": "code",
   "execution_count": null,
   "id": "8c7842ec-6e85-4f2b-b07d-2076a7df800c",
   "metadata": {},
   "outputs": [],
   "source": []
  },
  {
   "cell_type": "code",
   "execution_count": null,
   "id": "324265b4-96be-4bf3-aa17-34cc4ae6a9bc",
   "metadata": {},
   "outputs": [],
   "source": []
  }
 ],
 "metadata": {
  "kernelspec": {
   "display_name": "Python 3 (ipykernel)",
   "language": "python",
   "name": "python3"
  },
  "language_info": {
   "codemirror_mode": {
    "name": "ipython",
    "version": 3
   },
   "file_extension": ".py",
   "mimetype": "text/x-python",
   "name": "python",
   "nbconvert_exporter": "python",
   "pygments_lexer": "ipython3",
   "version": "3.8.13"
  }
 },
 "nbformat": 4,
 "nbformat_minor": 5
}
