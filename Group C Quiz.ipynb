{
 "cells": [
  {
   "cell_type": "code",
   "execution_count": 4,
   "id": "8863be9f-0cb8-4615-accc-ddfb353a1a71",
   "metadata": {},
   "outputs": [
    {
     "name": "stdout",
     "output_type": "stream",
     "text": [
      "What is the capital of France?\n",
      "A: Rome\n",
      "B: Paris\n",
      "C: Berlin\n",
      "D: Bern\n"
     ]
    },
    {
     "name": "stdin",
     "output_type": "stream",
     "text": [
      "answer:  b\n"
     ]
    },
    {
     "name": "stdout",
     "output_type": "stream",
     "text": [
      "\n",
      "That is correct!\n",
      "You have just earned $200\n",
      "\n"
     ]
    },
    {
     "ename": "TypeError",
     "evalue": "unhashable type: 'list'",
     "output_type": "error",
     "traceback": [
      "\u001b[0;31m---------------------------------------------------------------------------\u001b[0m",
      "\u001b[0;31mTypeError\u001b[0m                                 Traceback (most recent call last)",
      "Cell \u001b[0;32mIn [4], line 36\u001b[0m\n\u001b[1;32m     34\u001b[0m \u001b[38;5;28mprint\u001b[39m(\u001b[38;5;124m\"\u001b[39m\u001b[38;5;130;01m\\n\u001b[39;00m\u001b[38;5;124mThat is correct!\u001b[39m\u001b[38;5;124m\"\u001b[39m)\n\u001b[1;32m     35\u001b[0m \u001b[38;5;28mprint\u001b[39m(\u001b[38;5;124m'\u001b[39m\u001b[38;5;124mYou have just earned \u001b[39m\u001b[38;5;124m'\u001b[39m \u001b[38;5;241m+\u001b[39m \u001b[38;5;124m\"\u001b[39m\u001b[38;5;124m$\u001b[39m\u001b[38;5;132;01m{:,.0f}\u001b[39;00m\u001b[38;5;124m\"\u001b[39m\u001b[38;5;241m.\u001b[39mformat(money_amounts[\u001b[38;5;241m0\u001b[39m]\u001b[38;5;241m+\u001b[39m\u001b[38;5;241m200\u001b[39m) \u001b[38;5;241m+\u001b[39m \u001b[38;5;124m'\u001b[39m\u001b[38;5;130;01m\\n\u001b[39;00m\u001b[38;5;124m'\u001b[39m)\n\u001b[0;32m---> 36\u001b[0m \u001b[43mmoney_adding\u001b[49m\u001b[43m[\u001b[49m\u001b[43manswer_key\u001b[49m\u001b[43m]\u001b[49m\n\u001b[1;32m     37\u001b[0m \u001b[38;5;28mprint\u001b[39m(\u001b[38;5;124m\"\u001b[39m\u001b[38;5;124mYour total money count is now:\u001b[39m\u001b[38;5;124m\"\u001b[39m)\n\u001b[1;32m     38\u001b[0m \u001b[38;5;28mprint\u001b[39m\n",
      "\u001b[0;31mTypeError\u001b[0m: unhashable type: 'list'"
     ]
    }
   ],
   "source": [
    "question_1 = \"What is the capital of France?\"\n",
    "answer_1 = \"Paris\"\n",
    "question_2 = \"How many states does the United States have?\"\n",
    "answer_2 = 50\n",
    "question_3 = \"How many continents are there?\"\n",
    "answer_3 = 7\n",
    "question_4 = \"In what year did the Berlin Wall collapse?\"\n",
    "answer_4 = 1991\n",
    "question_5 = \"What country surrounds the Vatican?\"\n",
    "answer_5 = 'Italy'\n",
    "question_6 = \"What country is the 'Great Wall' in?\"\n",
    "answer_6 = 'China'\n",
    "question_7 = \"Canberra is the capital of which country?\"\n",
    "answer_7 = 'Australia'\n",
    "question_8 = \"What is the name of the tallest mountain in the world?\"\n",
    "answer_8 = 'Everest'\n",
    "question_9 = \"In what country would you find Stonehenge?\"\n",
    "answer_9 = \"United Kingdom\"\n",
    "question_10 = \"What is the name of the largest ocean?\"\n",
    "answer_10 = 'Pacific'\n",
    "\n",
    "test_questions = [question_1, question_2, question_3, question_4, question_5, question_6, question_7, question_8, question_9, question_10]\n",
    "test_answers = [answer_1, answer_2, answer_3, answer_4, answer_5, answer_6, answer_7, answer_8, answer_9, answer_10]\n",
    "answer_key = ['B', 'D', 'C', 'A', 'A', 'C', 'C', 'D', 'B', 'B']\n",
    "test_prompts = ['A: Rome\\nB: Paris\\nC: Berlin\\nD: Bern', 'A: 48\\nB: 52\\nC: 13\\nD: 50', 'A: 6\\nB: 5\\nC: 7\\nD: 4', 'A: 1991\\nB: 1992\\nC: 1990\\nD: 1989', 'A: Italy\\nB: France\\nC: San Marino\\nD: Spain', 'A: India\\nB: United States\\nC: China\\nD: Japan', 'A: Italy\\nB: Spain\\nC: Australia\\nD: New Zealand', 'A: Matterhorn\\nB: K2\\nC: Denali\\nD: Everest', 'A: Iceland\\nB: United Kingdom\\nC: Greece\\nD: Ireland', 'A: Indian\\nB: Pacific\\nC: Atlantic\\nD: Arctic']\n",
    "money_amounts = [0, 5000, 7000, 10000, 20000, 30000, 50000, 100000, 250000, 500000, 1000000]\n",
    "money_adding={\"B\":200, \"D\":400, \"C\":600, \"A\":800, \"A\":1000, \"C\":1200, \"C\":1400, \"D\":1600, \"B\":1800, \"B\":2000}\n",
    "\n",
    "for i in range (len(test_questions)):\n",
    "    print(test_questions[i])\n",
    "    print(test_prompts[i])\n",
    "    answer=input(\"answer: \").upper()\n",
    "    if answer in answer_key[i]:\n",
    "        print(\"\\nThat is correct!\")\n",
    "        print('You have just earned ' + \"${:,.0f}\".format(money_amounts[0]+200) + '\\n')\n",
    "        money_adding[answer_key]\n",
    "        print(\"Your total money count is now:\")\n",
    "        print\n",
    "    else:\n",
    "        print(\"\\nIncorrect! Unfortunately, your score will not change.\")\n",
    "        print(f\"your score is now:{money_amounts}\\n\")\n"
   ]
  },
  {
   "cell_type": "code",
   "execution_count": null,
   "id": "b8c932c3-adc8-463c-acc1-ccbf94964e43",
   "metadata": {},
   "outputs": [],
   "source": []
  }
 ],
 "metadata": {
  "kernelspec": {
   "display_name": "Python 3 (ipykernel)",
   "language": "python",
   "name": "python3"
  },
  "language_info": {
   "codemirror_mode": {
    "name": "ipython",
    "version": 3
   },
   "file_extension": ".py",
   "mimetype": "text/x-python",
   "name": "python",
   "nbconvert_exporter": "python",
   "pygments_lexer": "ipython3",
   "version": "3.8.13"
  }
 },
 "nbformat": 4,
 "nbformat_minor": 5
}
