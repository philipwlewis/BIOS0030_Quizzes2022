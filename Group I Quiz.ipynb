{
 "cells": [
  {
   "cell_type": "code",
   "execution_count": 58,
   "id": "2068be4e-9044-40f7-b3f2-b0f74806da79",
   "metadata": {},
   "outputs": [],
   "source": [
    "questions = {\"How many chromosomes are there in humans?: \" : \"A\",\n",
    "             \"Which amino acid does Arg correspond to?: \" : \"D\",\n",
    "             \"What color does a gram negative bacteria stain?: \" : \"B\",\n",
    "             \"Which enzyme is a key drug target against HIV?: \" : \"A\",\n",
    "             \"The structure in a cell that controls the cell's activities:\":\"D\",\n",
    "             \"What hormone raises blood calcium levels?:\":\"C\",\n",
    "             \"What phrase would be used to describe the following genotype HhRr?\":\"D\",\n",
    "             \"Which of the following cells is not found in circulating blood?\" : \"A\",\n",
    "             \"What name is given to a plant that is able to grow well in dry conditions?:\":\"B\",\n",
    "             \"What is the layer of waxy material that is secreted by leaf epidermal cells called?:\":\"D\",\n",
    "             \"What is the name of the blood vessel that drains the small intestine?:\":\"D\",\n",
    "             \"What blood vessel receives returning lymph fluid draining from body tissues?:\":\"D\",\n",
    "             \"What is the size of eukaryotic ribosomes?\":\"D\",\n",
    "             \"What is the substrate for phosphofructokinase?:\":\"D\",\n",
    "             \"What amino acid starts the synthesis of the polypeptide chain?:\":\"A\"}\n",
    "#dictionary stores all the key : value pairs of the questions and answers\n",
    "\n",
    "\n",
    "\n",
    "options = [[\"A. 46\",\"B. 48\",\"C. 23\",\"D. 24\"],\n",
    "           [\"A. Aspartate\",\"B. Asparagine\",\"C. Alanine\",\"D. Arginine\"],\n",
    "           [\"A. Blue\",\"B. Pink\",\"C. Purple\",\"D. Red\"],\n",
    "           [\"A. Reverse Transcriptase\",\"B. Reverse Translatase\",\"C. DNA Helicase\",\"D. Primase\"],\n",
    "           [\"A. Cell membrane\", \"B. Cytoplasm\", \"C. Mitochondrian\", \"D. Nucleus\"],\n",
    "           [\"A. Growth hormone\", \"B. Calcitonin\", \"C. Parathyroid hormone\", \"D.Gastrin\"],\n",
    "           [\"A. Monohybrid homozygous\", \"B. Monohybrid heterozygous\", \"C. Dihybrid homozygous\", \"D. Dihybrid heterozygous\"],\n",
    "           [\"A. Podocyte\", \"B. Erythrocyte\", \"C. Leucocyte\", \"D. Lymphocyte\"],\n",
    "           [\"A. Halophyte\",\"B. Xerophyte\", \"C. Hydrophyte\", \"D. Mesophyte\"],\n",
    "           [\"A. Extrinsic coating\",\"B. Exodermis\",\"C. Endodermis\",\"D. Cuticle\"],\n",
    "           [\"A. Iliac artery\",\"B. Mesenteric vein\",\"C. Hepatic artery\",\"D. Hepatic portal vein\"],\n",
    "           [\"A. Aorta\",\"B. Vena cava\",\"C.Hepatic portal vein\",\"D. Sub-clavian vein\"],\n",
    "           [\"A. 20S\",\"B. 50S\",\"C. 70S\",\"D. 80S\"],\n",
    "           [\"A. Fructose\",\"B. Glucose 6-phosphate\",\"C. Glucose isomerase\",\"D. Fructose 6-phosphate\"],\n",
    "           [\"A. Methionine\",\"B. Glycine\",\"C. Alanine\",\"D. Cysteine\"]]\n",
    "#nested list stores all the options"
   ]
  },
  {
   "cell_type": "code",
   "execution_count": 53,
   "id": "42613b2a-9f9a-4cc9-a280-7f639f70731b",
   "metadata": {},
   "outputs": [],
   "source": [
    "def new_game():\n",
    "#spawns a new game\n",
    "    guesses = []\n",
    "    correct_guesses = 0\n",
    "    question_num = 1\n",
    "\n",
    "    for key in questions:\n",
    "        print(\"-------------------------------------------------\")\n",
    "        print(key)\n",
    "        for i in options[question_num - 1]:\n",
    "            print(i)\n",
    "            #nested for loop prints the options list, but only the row on question_num - 1\n",
    "\n",
    "        guess = input(\"Enter (A. B. C. or D.): \")\n",
    "        guess = guess.upper()\n",
    "        guesses.append(guess)\n",
    "\n",
    "        correct_guesses += check_answer(questions.get(key),guess)\n",
    "        #calls the check answer function to return either 0 or 1 to be added on the correct_guesses value\n",
    "        #the score returned also adds back to the correct guesses variable\n",
    "        question_num += 1\n",
    "        #this displays the options for their corresponding question\n",
    "        display_score(correct_guesses)\n",
    "        if correct_guesses < 0 or correct_guesses == 15:\n",
    "            display_end_score(correct_guesses,guesses)\n",
    "            #this function is called to display score\n",
    "            break\n",
    "        else:\n",
    "            play_on()"
   ]
  },
  {
   "cell_type": "code",
   "execution_count": 46,
   "id": "1e5912d6-022b-429e-8ab2-8bc8235e80b5",
   "metadata": {},
   "outputs": [],
   "source": [
    "def play_on():\n",
    "    play_on = input()\n",
    "    play_on = play_pn.upper()\n",
    "    if play_on == (\"Y\"):\n",
    "        print(\"Next question!\")\n",
    "    else:\n",
    "        correct_guesses -= 100000"
   ]
  },
  {
   "cell_type": "code",
   "execution_count": 43,
   "id": "eb4bc695-ff95-4011-a70b-4d5958f302c3",
   "metadata": {},
   "outputs": [],
   "source": [
    "def check_answer(answer,guess):\n",
    "#two arguments sent to check answer, the correct answer and the user guess\n",
    "    if answer == guess:\n",
    "        print(\"Correct!\")\n",
    "        return 1\n",
    "    else:\n",
    "        print(\"Incorrect!\")\n",
    "        return -100000"
   ]
  },
  {
   "cell_type": "code",
   "execution_count": 31,
   "id": "f1bb3d75-dc77-471e-9448-6693fd520ebb",
   "metadata": {},
   "outputs": [],
   "source": [
    "def display_score(correct_guesses):\n",
    "    if correct_guesses == 1:\n",
    "        print(\"Current prize pool: 100£. Carry on? (Y) or leave it (N)\")\n",
    "    elif correct_guesses == 2:\n",
    "        print(\"Current prize pool: 200£. Carry on? (Y) or leave it (N)\")\n",
    "    elif correct_guesses == 3:\n",
    "        print(\"Current prize pool: 300£. Carry on? (Y) or leave it (N)\")\n",
    "    elif correct_guesses == 4:\n",
    "        print(\"Current prize pool: 500£. Carry on? (Y) or leave it (N)\")\n",
    "    elif correct_guesses == 5:\n",
    "        print(\"Current prize pool: 1,000£. Carry on? (Y) or leave it (N)\")\n",
    "    elif correct_guesses == 6:\n",
    "        print(\"Current prize pool: 2,000£. Carry on? (Y) or leave it (N)\")\n",
    "    elif correct_guesses == 7:\n",
    "        print(\"Current prize pool: 4,000£. Carry on? (Y) or leave it (N)\")\n",
    "    elif correct_guesses == 8:\n",
    "        print(\"Current prize pool: 8,000£. Carry on? (Y) or leave it (N)\")\n",
    "    elif correct_guesses == 9:\n",
    "        print(\"Current prize pool: 16,000£. Carry on? (Y) or leave it (N)\")\n",
    "    elif correct_guesses == 10:\n",
    "        print(\"Current prize pool: 32,000£. Carry on? (Y) or leave it (N)\")\n",
    "    elif correct_guesses == 11:\n",
    "        print(\"Current prize pool: 64,000£. Carry on? (Y) or leave it (N)\")\n",
    "    elif correct_guesses == 12:\n",
    "        print(\"Current prize pool: 125,000£. Carry on? (Y) or leave it (N)\")\n",
    "    elif correct_guesses == 13:\n",
    "        print(\"Current prize pool: 250,000£. Carry on? (Y) or leave it (N)\")\n",
    "    elif correct_guesses == 14:\n",
    "        print(\"Current prize pool: 500,000£. Carry on? (Y) or leave it (N)\")\n",
    "    elif correct_guesses == 15:\n",
    "        print(\"You have won 1,000,000£!\")\n",
    "    else:\n",
    "        print(\"Game over\")"
   ]
  },
  {
   "cell_type": "code",
   "execution_count": 32,
   "id": "f0e53df5-cddb-4987-9375-1a4fe473f0ae",
   "metadata": {},
   "outputs": [],
   "source": [
    "def display_end_score(correct_guesses,guesses):\n",
    "    print(\"-------------------------------------------------\")\n",
    "    print(\"Results: \")\n",
    "    print(\"-------------------------------------------------\")\n",
    "\n",
    "    print(\"Answers:\")\n",
    "    for i in questions:\n",
    "        print(questions.get(i))\n",
    "        #this prints the answers in the questions dictionary\n",
    "\n",
    "    print(\"-------------------------------------------------\")\n",
    "    \n",
    "    print(\"Guesses: \")\n",
    "    for i in guesses:\n",
    "        print(i)\n",
    "        #this prints the the guesses list created through user input\n",
    "    \n",
    "    print(\"-------------------------------------------------\")"
   ]
  },
  {
   "cell_type": "code",
   "execution_count": null,
   "id": "6a49980c-ca42-4c67-8b0b-e786fd7d460a",
   "metadata": {},
   "outputs": [
    {
     "name": "stdout",
     "output_type": "stream",
     "text": [
      "-------------------------------------------------\n",
      "How many chromosomes are there in humans?: \n",
      "A. 46\n",
      "B. 48\n",
      "C. 23\n",
      "D. 24\n"
     ]
    },
    {
     "name": "stdin",
     "output_type": "stream",
     "text": [
      "Enter (A. B. C. or D.):  A\n"
     ]
    },
    {
     "name": "stdout",
     "output_type": "stream",
     "text": [
      "Correct!\n",
      "Current prize pool: 100£. Carry on? (Y) or leave it (N)\n"
     ]
    },
    {
     "name": "stdin",
     "output_type": "stream",
     "text": [
      " Y\n"
     ]
    },
    {
     "name": "stdout",
     "output_type": "stream",
     "text": [
      "Next question!\n",
      "-------------------------------------------------\n",
      "Which amino acid does Arg correspond to?: \n",
      "A. Aspartate\n",
      "B. Asparagine\n",
      "C. Alanine\n",
      "D. Arginine\n"
     ]
    },
    {
     "name": "stdin",
     "output_type": "stream",
     "text": [
      "Enter (A. B. C. or D.):  D\n"
     ]
    },
    {
     "name": "stdout",
     "output_type": "stream",
     "text": [
      "Correct!\n",
      "Current prize pool: 200£. Carry on? (Y) or leave it (N)\n"
     ]
    },
    {
     "name": "stdin",
     "output_type": "stream",
     "text": [
      " Y\n"
     ]
    },
    {
     "name": "stdout",
     "output_type": "stream",
     "text": [
      "Next question!\n",
      "-------------------------------------------------\n",
      "What color does a gram negative bacteria stain?: \n",
      "A. Blue\n",
      "B. Pink\n",
      "C. Purple\n",
      "D. Red\n"
     ]
    },
    {
     "name": "stdin",
     "output_type": "stream",
     "text": [
      "Enter (A. B. C. or D.):  B\n"
     ]
    },
    {
     "name": "stdout",
     "output_type": "stream",
     "text": [
      "Correct!\n",
      "Current prize pool: 300£. Carry on? (Y) or leave it (N)\n"
     ]
    },
    {
     "name": "stdin",
     "output_type": "stream",
     "text": [
      " Y\n"
     ]
    },
    {
     "name": "stdout",
     "output_type": "stream",
     "text": [
      "Next question!\n",
      "-------------------------------------------------\n",
      "Which enzyme is a key drug target against HIV?: \n",
      "A. Reverse Transcriptase\n",
      "B. Reverse Translatase\n",
      "C. DNA Helicase\n",
      "D. Primase\n"
     ]
    },
    {
     "name": "stdin",
     "output_type": "stream",
     "text": [
      "Enter (A. B. C. or D.):  A\n"
     ]
    },
    {
     "name": "stdout",
     "output_type": "stream",
     "text": [
      "Correct!\n",
      "Current prize pool: 500£. Carry on? (Y) or leave it (N)\n"
     ]
    },
    {
     "name": "stdin",
     "output_type": "stream",
     "text": [
      " Y\n"
     ]
    },
    {
     "name": "stdout",
     "output_type": "stream",
     "text": [
      "Next question!\n",
      "-------------------------------------------------\n",
      "The structure in a cell that controls the cell's activities:\n",
      "A. Cell membrane\n",
      "B. Cytoplasm\n",
      "C. Mitochondrian\n",
      "D. Nucleus\n"
     ]
    },
    {
     "name": "stdin",
     "output_type": "stream",
     "text": [
      "Enter (A. B. C. or D.):  D\n"
     ]
    },
    {
     "name": "stdout",
     "output_type": "stream",
     "text": [
      "Correct!\n",
      "Current prize pool: 1,000£. Carry on? (Y) or leave it (N)\n"
     ]
    },
    {
     "name": "stdin",
     "output_type": "stream",
     "text": [
      " Y\n"
     ]
    },
    {
     "name": "stdout",
     "output_type": "stream",
     "text": [
      "Next question!\n",
      "-------------------------------------------------\n",
      "What hormone raises blood calcium levels?:\n",
      "A. Growth hormone\n",
      "B. Calcitonin\n",
      "C. Parathyroid hormone\n",
      "D.Gastrin\n"
     ]
    },
    {
     "name": "stdin",
     "output_type": "stream",
     "text": [
      "Enter (A. B. C. or D.):  C\n"
     ]
    },
    {
     "name": "stdout",
     "output_type": "stream",
     "text": [
      "Correct!\n",
      "Current prize pool: 2,000£. Carry on? (Y) or leave it (N)\n"
     ]
    },
    {
     "name": "stdin",
     "output_type": "stream",
     "text": [
      " Y\n"
     ]
    },
    {
     "name": "stdout",
     "output_type": "stream",
     "text": [
      "Next question!\n",
      "-------------------------------------------------\n",
      "What phrase would be used to describe the following genotype HhRr?\n",
      "A. Monohybrid homozygous\n",
      "B. Monohybrid heterozygous\n",
      "C. Dihybrid homozygous\n",
      "D. Dihybrid heterozygous\n"
     ]
    },
    {
     "name": "stdin",
     "output_type": "stream",
     "text": [
      "Enter (A. B. C. or D.):  D\n"
     ]
    },
    {
     "name": "stdout",
     "output_type": "stream",
     "text": [
      "Correct!\n",
      "Current prize pool: 4,000£. Carry on? (Y) or leave it (N)\n"
     ]
    },
    {
     "name": "stdin",
     "output_type": "stream",
     "text": [
      " Y\n"
     ]
    },
    {
     "name": "stdout",
     "output_type": "stream",
     "text": [
      "Next question!\n",
      "-------------------------------------------------\n",
      "Which of the following cells is not found in circulating blood?\n",
      "A. Podocyte\n",
      "B. Erythrocyte\n",
      "C. Leucocyte\n",
      "D. Lymphocyte\n"
     ]
    },
    {
     "name": "stdin",
     "output_type": "stream",
     "text": [
      "Enter (A. B. C. or D.):  A\n"
     ]
    },
    {
     "name": "stdout",
     "output_type": "stream",
     "text": [
      "Correct!\n",
      "Current prize pool: 8,000£. Carry on? (Y) or leave it (N)\n"
     ]
    },
    {
     "name": "stdin",
     "output_type": "stream",
     "text": [
      " Y\n"
     ]
    },
    {
     "name": "stdout",
     "output_type": "stream",
     "text": [
      "Next question!\n",
      "-------------------------------------------------\n",
      "What name is given to a plant that is able to grow well in dry conditions?:\n",
      "A. Halophyte\n",
      "B. Xerophyte\n",
      "C. Hydrophyte\n",
      "D. Mesophyte\n"
     ]
    },
    {
     "name": "stdin",
     "output_type": "stream",
     "text": [
      "Enter (A. B. C. or D.):  B\n"
     ]
    },
    {
     "name": "stdout",
     "output_type": "stream",
     "text": [
      "Correct!\n",
      "Current prize pool: 16,000£. Carry on? (Y) or leave it (N)\n"
     ]
    },
    {
     "name": "stdin",
     "output_type": "stream",
     "text": [
      " Y\n"
     ]
    },
    {
     "name": "stdout",
     "output_type": "stream",
     "text": [
      "Next question!\n",
      "-------------------------------------------------\n",
      "What is the layer of waxy material that is secreted by leaf epidermal cells called?:\n",
      "A. Extrinsic coating\n",
      "B. Exodermis\n",
      "C. Endodermis\n",
      "D. Cuticle\n"
     ]
    },
    {
     "name": "stdin",
     "output_type": "stream",
     "text": [
      "Enter (A. B. C. or D.):  D\n"
     ]
    },
    {
     "name": "stdout",
     "output_type": "stream",
     "text": [
      "Correct!\n",
      "Current prize pool: 32,000£. Carry on? (Y) or leave it (N)\n"
     ]
    }
   ],
   "source": [
    "new_game()"
   ]
  },
  {
   "cell_type": "code",
   "execution_count": null,
   "id": "bfa76549-a76b-4cc7-af3a-203e44a9a609",
   "metadata": {},
   "outputs": [],
   "source": []
  }
 ],
 "metadata": {
  "kernelspec": {
   "display_name": "Python 3 (ipykernel)",
   "language": "python",
   "name": "python3"
  },
  "language_info": {
   "codemirror_mode": {
    "name": "ipython",
    "version": 3
   },
   "file_extension": ".py",
   "mimetype": "text/x-python",
   "name": "python",
   "nbconvert_exporter": "python",
   "pygments_lexer": "ipython3",
   "version": "3.9.12"
  }
 },
 "nbformat": 4,
 "nbformat_minor": 5
}
