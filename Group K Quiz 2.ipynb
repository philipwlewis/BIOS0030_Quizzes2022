{
 "cells": [
  {
   "cell_type": "code",
   "execution_count": 1,
   "id": "4976fb5c-42e9-4a91-9662-7b607965a894",
   "metadata": {},
   "outputs": [],
   "source": [
    "class Question:\n",
    "    def __init__ (self, prompt, option1, option2, option3, option4, correct_answer, audience): #phone):\n",
    "        self.prompt = prompt\n",
    "        self.option1 = option1\n",
    "        self.option2 = option2\n",
    "        self.option3 = option3\n",
    "        self.option4 = option4\n",
    "        self.correct_answer = correct_answer\n",
    "        self.audience = audience\n",
    "        \n",
    "q1 = Question(\"Which month of the year was named after Julius Caesar?\", \"June\", \"July\", \"August\", \"September\", \"b\", \"A: 2% B: 98% C: 0% D: 0%\")\n",
    "q2 = Question(\"What colour is not in the Olympic rings?\", \"Red\", \"Green\", \"Yellow\", \"Purple\", \"d\", \"A: 21% B: 12% C: 19% D: 48%\" )\n",
    "q3 = Question(\"What is the capital of Finland?\", \"Oslo\", \"Stockholm\", \"Helsinki\", \"Vantaa\", \"c\", \"A: 15% B: 12% C: 48% D: 25%\"  )\n",
    "q4 = Question(\"What were the original colour of the Pyramids of Giza?\", \"Brown\", \"White\", \"Black\", \"Pink\", \"b\", \"A: 39% B: 39% C: 19% D: 3%\" )\n",
    "q5 = Question(\"Who was the Ancient Greek God of the Sun?\", \"Apollo\", \"Zeus\", \"Hermes\", \"Hera\", \"a\", \"A: 21% B: 12% C: 19% D: 48%\")\n",
    "q6 = Question(\"Which planet has the most moons?\", \"Uranus\", \"Pluto\", \"Mars\", \"Saturn\", \"d\", \"A: 21% B: 22% C: 26% D: 31%\" )\n",
    "q7 = Question(\"What is Queen Elizabeth II's surname?\", \"Regina\", \"Windsor\", \"Wales\", \"York\", \"b\", \"A: 24% B: 36% C: 19% D: 21%\")\n",
    "q8 = Question(\"The logo for luxury car maker Porsche features which animal?\", \"Horse\", \"Eagle\", \"Snake\", \"Jaguar\", \"a\", \"A: 50% B: 13% C: 14% D: 23%\")\n",
    "q9 = Question(\"In Tennis, what piece of fruit is found at the top of the men's Wimbledon trophy?\", \"Orange\", \"Apple\", \"Lemon\", \"Pineapple\", \"d\", \"A: 25% B: 33% C: 8% D: 34%\")\n",
    "q10 = Question(\"What year was the United Nations established?\", \"1945\", \"1976\", \"1943\", \"1962\", \"a\", \"A: 35% B: 18% C: 18% D: 29%\")\n",
    "\n",
    "queslist = [q1, q2, q3, q4, q5, q6, q7, q8, q9, q10]\n",
    "\n",
    "def ask_question(q_list): \n",
    "    \n",
    "    score = [0,500,1000,7000,16000,40000,100000,250000,500000,750000,1000000]\n",
    "    i = 0\n",
    "    n = len(q_list)\n",
    "    \n",
    "    print(\"Welcome to Who Wants To be a Millionare!\")\n",
    "    print(\"What is your name?\")\n",
    "    username = input()\n",
    "    print(f\"Welcome {username}, let's start the game!\")\n",
    "   \n",
    "    while i < n:\n",
    "        qnum = q_list[i]\n",
    "        q_text = f\"\"\"{qnum.prompt}\n",
    "        a - {qnum.option1}\n",
    "        b - {qnum.option2}\n",
    "        c - {qnum.option3}\n",
    "        d - {qnum.option4}\"\"\"\n",
    "        print(q_text)\n",
    "        \n",
    "        user_answer = input(\"What is your answer? Enter a, b, c or d. Enter L for lifeline\")\n",
    "        if user_answer == qnum.correct_answer: \n",
    "            next_ques = i\n",
    "            correct(i, score)\n",
    "            i = i + 1\n",
    "        elif user_answer == \"L\":\n",
    "            use_lifeline(q_list)\n",
    "        else:\n",
    "            wrong(i, score)\n",
    "            break\n",
    "            \n",
    "def correct(i, score):\n",
    "    print(f\"You got it right! You have won ${score[i+1]}\")\n",
    "    \n",
    "def wrong(i, score):\n",
    "    print(f\"You got it wrong :( You won ${score[i]}\")\n",
    "    \n"
   ]
  },
  {
   "cell_type": "code",
   "execution_count": 2,
   "id": "d07b6843-1df8-4677-bf53-a2f31bd8f017",
   "metadata": {},
   "outputs": [],
   "source": [
    "# at this point my quiz only works without having lifelines. Lifeline B is sort of working but it only displays lifeline for q1. \n",
    "# i'm confused on how to make the q_list[i] in function lifeineB match with q_list[i] in function ask_question"
   ]
  },
  {
   "cell_type": "code",
   "execution_count": 4,
   "id": "347a4933-5979-40be-a287-0e302863391f",
   "metadata": {},
   "outputs": [],
   "source": [
    "lifelines = [\"A) The 50/50\", \"B) The Audience\", \"C) The Telephone\"]\n",
    "\n",
    "def use_lifeline (q_list):\n",
    "    global lifelines\n",
    "    if len(lifelines) == 0:\n",
    "        print(\"Sorry you have no lifelines left\")\n",
    "        user_answer = input(\"What is your answer? Enter a, b, c or d\")\n",
    "        if user_answer == qnum.correct_answer:\n",
    "            correct(i, score)\n",
    "    else:\n",
    "        print(\"You have the following lifelines\")\n",
    "        print(f\"{lifelines}\")\n",
    "        for lifeline in lifelines:\n",
    "            lifeline_selection = input(\"Which lifeline do you choose?\")\n",
    "        #if lifeline_selection == \"A\":\n",
    "          #  lifelines.remove(\"A) The 50/50\")\n",
    "          #  lifelineA(q_list)\n",
    "            if lifeline_selection == \"B\":\n",
    "                lifelines.remove(\"B) The Audience\")\n",
    "                lifelineB(q_list)\n",
    "        #elif lifeline_selection == \"C\":\n",
    "            #lifelines.remove(\"C) The Telephone\")\n",
    "            #lifelineC(q_list)\n",
    "            \n",
    "    \n",
    "\n",
    "def lifelineB(q_list):\n",
    "    global score\n",
    "    qnum = q_list[i]\n",
    "    print(f\"The audience vote is: {qnum.audience}\")\n",
    "    user_answer = input(\"What is your answer?\")\n",
    "    if user_answer == qnum.correct_answer:\n",
    "        i + 1\n",
    "        correct(i, score)\n",
    "    else:\n",
    "        wrong(i, score)\n",
    "\n",
    "#def lifelineC(q_list):\n",
    "   # qnum = q_list[i]\n",
    "   # print(f\"Here is what your Telephone Joker said:\")\n",
    "   # print(qnum.phone)\n",
    "   # user_answer = input(\"What is your answer? \")\n",
    "   # if user_answer == qnum.correct_answer:\n",
    "   #     correct(i, score)\n",
    "   # else:\n",
    "   #     wrong(i, score)\n",
    "    \n",
    "score = [0,500,1000,7000,16000,40000,100000,250000,500000,750000,1000000]   \n",
    "    \n",
    "    \n",
    "\n",
    "            "
   ]
  },
  {
   "cell_type": "code",
   "execution_count": 5,
   "id": "982d9344-9483-4207-ad5a-13ece22b9ed4",
   "metadata": {},
   "outputs": [
    {
     "name": "stdout",
     "output_type": "stream",
     "text": [
      "Welcome to Who Wants To be a Millionare!\n",
      "What is your name?\n"
     ]
    },
    {
     "name": "stdin",
     "output_type": "stream",
     "text": [
      " ke\n"
     ]
    },
    {
     "name": "stdout",
     "output_type": "stream",
     "text": [
      "Welcome ke, let's start the game!\n",
      "Which month of the year was named after Julius Caesar?\n",
      "        a - June\n",
      "        b - July\n",
      "        c - August\n",
      "        d - September\n"
     ]
    },
    {
     "name": "stdin",
     "output_type": "stream",
     "text": [
      "What is your answer? Enter a, b, c or d. Enter L for lifeline b\n"
     ]
    },
    {
     "name": "stdout",
     "output_type": "stream",
     "text": [
      "You got it right! You have won $500\n",
      "What colour is not in the Olympic rings?\n",
      "        a - Red\n",
      "        b - Green\n",
      "        c - Yellow\n",
      "        d - Purple\n"
     ]
    },
    {
     "name": "stdin",
     "output_type": "stream",
     "text": [
      "What is your answer? Enter a, b, c or d. Enter L for lifeline d\n"
     ]
    },
    {
     "name": "stdout",
     "output_type": "stream",
     "text": [
      "You got it right! You have won $1000\n",
      "What is the capital of Finland?\n",
      "        a - Oslo\n",
      "        b - Stockholm\n",
      "        c - Helsinki\n",
      "        d - Vantaa\n"
     ]
    },
    {
     "name": "stdin",
     "output_type": "stream",
     "text": [
      "What is your answer? Enter a, b, c or d. Enter L for lifeline c\n"
     ]
    },
    {
     "name": "stdout",
     "output_type": "stream",
     "text": [
      "You got it right! You have won $7000\n",
      "What were the original colour of the Pyramids of Giza?\n",
      "        a - Brown\n",
      "        b - White\n",
      "        c - Black\n",
      "        d - Pink\n"
     ]
    },
    {
     "name": "stdin",
     "output_type": "stream",
     "text": [
      "What is your answer? Enter a, b, c or d. Enter L for lifeline s\n"
     ]
    },
    {
     "name": "stdout",
     "output_type": "stream",
     "text": [
      "You got it wrong :( You won $7000\n"
     ]
    }
   ],
   "source": [
    "ask_question(queslist)"
   ]
  },
  {
   "cell_type": "code",
   "execution_count": null,
   "id": "bdf1293f-ce96-4903-8be3-61c4c9da58af",
   "metadata": {},
   "outputs": [],
   "source": []
  }
 ],
 "metadata": {
  "kernelspec": {
   "display_name": "Python 3 (ipykernel)",
   "language": "python",
   "name": "python3"
  },
  "language_info": {
   "codemirror_mode": {
    "name": "ipython",
    "version": 3
   },
   "file_extension": ".py",
   "mimetype": "text/x-python",
   "name": "python",
   "nbconvert_exporter": "python",
   "pygments_lexer": "ipython3",
   "version": "3.9.12"
  }
 },
 "nbformat": 4,
 "nbformat_minor": 5
}
