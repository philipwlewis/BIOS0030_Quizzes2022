{
 "cells": [
  {
   "cell_type": "code",
   "execution_count": 201,
   "id": "1ecf550b-870f-43f4-88a4-8a4535116a21",
   "metadata": {
    "execution": {
     "iopub.execute_input": "2022-11-10T16:02:58.292568Z",
     "iopub.status.busy": "2022-11-10T16:02:58.292108Z",
     "iopub.status.idle": "2022-11-10T16:02:58.300622Z",
     "shell.execute_reply": "2022-11-10T16:02:58.300086Z",
     "shell.execute_reply.started": "2022-11-10T16:02:58.292543Z"
    },
    "tags": []
   },
   "outputs": [],
   "source": [
    "import random\n",
    "from IPython import display\n",
    "class Game:\n",
    "    \n",
    "    def __init__(self,q,bank):\n",
    "        self.q=q\n",
    "        self.bank=bank\n",
    "        self.int=list()\n",
    "        self.sum=0\n",
    "        self.big_count=0\n",
    "    \n",
    "    def intro(self):\n",
    "        print(\"Welcome to 100 people never said\")\n",
    "        print(\"Type the most 4 probable answers to the question and get over 200 to win\")\n",
    "        print(\"You can type 'quit' to leave at any time\")\n",
    "    \n",
    "    \n",
    "    def ask(self):\n",
    "        print(\"Now question number:\",len(self.int)+1)\n",
    "        k=random.randint(0,10)\n",
    "        while k in self.int and k not in range(11):\n",
    "            k=random.randint(0,10)\n",
    "        #k=0\n",
    "        self.int.append(k)\n",
    "        print(self.bank[k][0])\n",
    "        self.k=k\n",
    "        \n",
    "    def answer(self):\n",
    "        #display.clear_output(wait=True)\n",
    "        count=0\n",
    "        #print(\"You can press 'quit' anytime\")\n",
    "        #r=round(random.gammavariate(100, 0.9))\n",
    "        #a,b,c,d=0.6*r, 0.2*r, 0.1*r, 0.1*r\n",
    "        #display.clear_output()\n",
    "        while count<4:\n",
    "            st=input(\"Please provide answer\")\n",
    "            \n",
    "            if st in ['quit', 'Quit']:\n",
    "                self.big_count=100\n",
    "                break\n",
    "                \n",
    "            if st.lower() in self.q[self.k] or st in self.q[self.k]:\n",
    "                print(st, round(p[st]))\n",
    "                self.sum=self.sum+round(p[st])\n",
    "                print(\"Your curent sum is\", self.sum)\n",
    "            else:\n",
    "                print(\"Not an answer\")\n",
    "            count=count+1\n",
    "        self.big_count+=1\n",
    "        print(\"Current sum is \", self.sum)\n",
    "        display.clear_output()\n",
    "        \n",
    "    def game(self):\n",
    "        self.intro()\n",
    "        while self.big_count<6:\n",
    "            self.ask()\n",
    "            self.answer()\n",
    "            \n",
    "        if self.sum>100:\n",
    "            print(\"You Win\")\n",
    "        else:\n",
    "            print(\"You only have\", self.sum,\"points, tough luck!\")\n",
    "        \n",
    "        \n",
    "\n",
    "\n",
    "    "
   ]
  },
  {
   "cell_type": "code",
   "execution_count": 202,
   "id": "ea514aec-6602-45bb-890d-8a1f5ef5a369",
   "metadata": {
    "execution": {
     "iopub.execute_input": "2022-11-10T16:02:59.425135Z",
     "iopub.status.busy": "2022-11-10T16:02:59.424763Z",
     "iopub.status.idle": "2022-11-10T16:02:59.435257Z",
     "shell.execute_reply": "2022-11-10T16:02:59.434717Z",
     "shell.execute_reply.started": "2022-11-10T16:02:59.425110Z"
    },
    "tags": []
   },
   "outputs": [],
   "source": [
    "r=round(random.gammavariate(100, 0.9))\n",
    "a,b,c,d=0.6*r, 0.2*r, 0.1*r, 0.1*r\n",
    "p={\n",
    "    \"Mother in Law\":a*random.gauss(1,0.1),\n",
    "    \"Policeman\":b*random.gauss(1,0.1),\n",
    "    \"Yoga instructor\":c*random.gauss(1,0.1),\n",
    "    \"Wife\":d*random.gauss(1,0.1),\n",
    "    \n",
    "    \"Selection\":a*random.gauss(1,0.1),\n",
    "    \"Erection\":b*random.gauss(1,0.1),\n",
    "    \"Perfection\":c*random.gauss(1,0.1),\n",
    "    \"Detection\":d*random.gauss(1,0.1),\n",
    "    \n",
    "    \"Basket\":a*random.gauss(1,0.1),\n",
    "    \"Fruit\":b*random.gauss(1,0.1),\n",
    "    \"Bread\":c *random.gauss(1,0.1),\n",
    "    \"Milk\":d*random.gauss(1,0.1),\n",
    "    \n",
    "    \"Money\":a*random.gauss(1,0.1),\n",
    "    \"Bunny\":b*random.gauss(1,0.1),\n",
    "    \"Funny\":c*random.gauss(1,0.1),\n",
    "    \"Sunny\":d*random.gauss(1,0.1),\n",
    "    \n",
    "    'Car':a*random.gauss(1,0.1),\n",
    "    'House':b *random.gauss(1,0.1),\n",
    "    'Jewellery':c *random.gauss(1,0.1),\n",
    "    'Clothes':d*random.gauss(1,0.1),\n",
    "    \n",
    "    'Bed':a*random.gauss(1,0.1),\n",
    "    'Desk':b *random.gauss(1,0.1),\n",
    "    'Wardrobe':c *random.gauss(1,0.1),\n",
    "    'Shelf':d*random.gauss(1,0.1),\n",
    "    \n",
    "    'Dog':a *random.gauss(1,0.1),\n",
    "    'Rabbit':b *random.gauss(1,0.1),\n",
    "    'Cow':c*random.gauss(1,0.1),\n",
    "    'Squirrel':d*random.gauss(1,0.1),\n",
    "    \n",
    "    'Rat':a*random.gauss(1,0.1),\n",
    "    'Mold':b *random.gauss(1,0.1),\n",
    "    'Crumbs':c *random.gauss(1,0.1),\n",
    "    'Fire':d*random.gauss(1,0.1),\n",
    "    \n",
    "    'Phone':a*random.gauss(1,0.1),\n",
    "    'Wallet':b *random.gauss(1,0.1),\n",
    "    'Keys':c *random.gauss(1,0.1),\n",
    "    'Saying goodbye':d*random.gauss(1,0.1),\n",
    "    \n",
    "    'Dress':a*random.gauss(1,0.1),\n",
    "    'Ring':b*random.gauss(1,0.1),\n",
    "    'Champagne':c *random.gauss(1,0.1),\n",
    "    'Dinner':d*random.gauss(1,0.1),\n",
    "    \n",
    "    'Cat':a*random.gauss(1,0.1),\n",
    "    'Collar':b *random.gauss(1,0.1),\n",
    "    'Bowl':c*random.gauss(1,0.1),\n",
    "    'Bone':d*random.gauss(1,0.1),\n",
    "    \n",
    "}"
   ]
  },
  {
   "cell_type": "code",
   "execution_count": 203,
   "id": "5170e075-f0e9-4b72-aa29-9d9edbff21aa",
   "metadata": {
    "execution": {
     "iopub.execute_input": "2022-11-10T16:02:59.593540Z",
     "iopub.status.busy": "2022-11-10T16:02:59.593049Z",
     "iopub.status.idle": "2022-11-10T16:02:59.596918Z",
     "shell.execute_reply": "2022-11-10T16:02:59.596434Z",
     "shell.execute_reply.started": "2022-11-10T16:02:59.593520Z"
    },
    "tags": []
   },
   "outputs": [
    {
     "data": {
      "text/plain": [
       "9.200000000000001"
      ]
     },
     "execution_count": 203,
     "metadata": {},
     "output_type": "execute_result"
    }
   ],
   "source": [
    "d"
   ]
  },
  {
   "cell_type": "code",
   "execution_count": 204,
   "id": "95492cc4-74d0-4b65-bcf7-fa35af69e0e1",
   "metadata": {
    "execution": {
     "iopub.execute_input": "2022-11-10T16:02:59.913733Z",
     "iopub.status.busy": "2022-11-10T16:02:59.913231Z",
     "iopub.status.idle": "2022-11-10T16:02:59.918804Z",
     "shell.execute_reply": "2022-11-10T16:02:59.918301Z",
     "shell.execute_reply.started": "2022-11-10T16:02:59.913713Z"
    },
    "tags": []
   },
   "outputs": [],
   "source": [
    "q=[[\"Who is the last person you want to see right now?\", \"Mother in Law\",\"Policeman\",\"Yoga instructor\", \"Wife\"],\n",
    "   [\"Tell Me A Word That Rhymes with “Election”?\",\"Selection\",\"Erection\",\"Perfection\",\"Detection\"],\n",
    "   [\"What is the first thing you grab in a supermarket?\", \"Basket\", \"Fruit\", \"Bread\" , \"Milk\"],\n",
    "   [\"Name a Word That Rhymes With Honey\", \"Money\", \"Bunny\", \"Funny\", \"Sunny\"],\n",
    "   [\"Name something you aim to sell\", 'Car', 'House', 'Jewellery', 'Clothes'],\n",
    "   [\"Name the first thing you see in a bedroom\", 'Bed', 'Desk', 'Wardrobe', 'Shelf'],\n",
    "   [\"Name an animal you would find in a field\", 'Dog', 'Rabbit', 'Cow', 'Squirrel'],\n",
    "   [\"What is something you do not want to find in a kitchen?\", 'Rat', 'Mold', 'Crumbs', 'Fire'],\n",
    "   [\"What is something you always seem to remember when leaving the house?\", 'Phone', 'Wallet', 'Keys', 'Saying goodbye'],\n",
    "   [\"Name Something You Would Buy After Getting Engaged\", 'Dress', 'Ring', 'Champagne', 'Dinner'],\n",
    "   [\"If Your Dog Ran Away, Name Something You'd Be Surprised He Took with Him?\", 'Cat', 'Collar', 'Bowl', 'Bone'],\n",
    "  ]\n",
    "\n",
    "bank={\n",
    "    0:q[0],\n",
    "    1:q[1],\n",
    "    2:q[2],\n",
    "    3:q[3],\n",
    "    4:q[4],\n",
    "    5:q[5],\n",
    "    6:q[6],\n",
    "    7:q[7],\n",
    "    8:q[8],\n",
    "    9:q[9],\n",
    "    10:q[10],\n",
    "}"
   ]
  },
  {
   "cell_type": "code",
   "execution_count": 205,
   "id": "c5399eb5-349e-4461-b0c8-6534ddc065c4",
   "metadata": {
    "execution": {
     "iopub.execute_input": "2022-11-10T16:03:00.323766Z",
     "iopub.status.busy": "2022-11-10T16:03:00.323419Z",
     "iopub.status.idle": "2022-11-10T16:03:01.817330Z",
     "shell.execute_reply": "2022-11-10T16:03:01.816770Z",
     "shell.execute_reply.started": "2022-11-10T16:03:00.323742Z"
    },
    "tags": []
   },
   "outputs": [
    {
     "name": "stdout",
     "output_type": "stream",
     "text": [
      "You only have 0 points, tough luck!\n"
     ]
    }
   ],
   "source": [
    "#kid.intro()\n",
    "#kid.ask()\n",
    "#kid.answer()\n",
    "kid=Game(q, bank)\n",
    "kid.game()\n"
   ]
  },
  {
   "cell_type": "code",
   "execution_count": null,
   "id": "574ffa1a-0fd3-4691-bd00-647682f00e45",
   "metadata": {},
   "outputs": [],
   "source": []
  }
 ],
 "metadata": {
  "kernelspec": {
   "display_name": "saturn (Python 3)",
   "language": "python",
   "name": "python3"
  },
  "language_info": {
   "codemirror_mode": {
    "name": "ipython",
    "version": 3
   },
   "file_extension": ".py",
   "mimetype": "text/x-python",
   "name": "python",
   "nbconvert_exporter": "python",
   "pygments_lexer": "ipython3",
   "version": "3.9.13"
  }
 },
 "nbformat": 4,
 "nbformat_minor": 5
}
