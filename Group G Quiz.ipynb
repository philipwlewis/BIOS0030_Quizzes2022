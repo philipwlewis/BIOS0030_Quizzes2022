{
 "cells": [
  {
   "cell_type": "code",
   "execution_count": 6,
   "metadata": {},
   "outputs": [],
   "source": [
    "from IPython.display import display, clear_output\n",
    "import random"
   ]
  },
  {
   "cell_type": "code",
   "execution_count": 7,
   "metadata": {},
   "outputs": [],
   "source": [
    "#weiting a function that can display the question\n",
    "def q_generator(question_dict):\n",
    "    q_dict = question_dict\n",
    "    print(q_dict.get('question'))\n",
    "    print(\n",
    "        'a:' + str(q_dict.get('a')),\n",
    "        'b:' + str(q_dict.get('b')), \n",
    "        'c:' + str(q_dict.get('c')),\n",
    "        'd:' + str(q_dict.get('d')),\n",
    "    )\n",
    "    Quest = input(\"Do you need support to filter two wrong answer (Y/N)?\\nIf you do so, your score would be less: \\n\")\n",
    "    if Quest == 'Y':\n",
    "        old_score = q_dict.get('score')\n",
    "        new_value = old_score/2\n",
    "        q_dict['score'] = new_value\n",
    "        pop_out_key = random.sample(q_dict.get('wrong answer'), 1)\n",
    "        print(q_dict.get('question'))\n",
    "        print(\n",
    "            pop_out_key[0] + ': '+ str(q_dict.get(pop_out_key[0])),\n",
    "            q_dict.get('answer') + ': '+ str(q_dict.get(q_dict.get('answer'))))\n",
    "        answer = input('Please enter the answer here: ')\n",
    "        print(\"Your answer is : \" + answer)\n",
    "        \n",
    "    elif Quest == 'N':    \n",
    "        answer = input('Please enter the answer here: ')\n",
    "    \n",
    "    if answer == q_dict.get('answer'):\n",
    "        return True\n",
    "    else:\n",
    "        return False\n",
    "    "
   ]
  },
  {
   "cell_type": "code",
   "execution_count": 8,
   "metadata": {},
   "outputs": [],
   "source": [
    "def quiz_generator(question_list):\n",
    "    q_list = question_list\n",
    "    score =0\n",
    "    player = input('Please enter your name here: ')\n",
    "    print('Get ready for the quiz, ' + str(player) + '!\\n')\n",
    "    for q in q_list:\n",
    "        result = q_generator(q)\n",
    "        if result == True:\n",
    "            score = score + q.get('score')\n",
    "            print(\"Congradulation!\\n\")\n",
    "            print('score: ' + str(score) + '\\n')\n",
    "        else:\n",
    "            score = score\n",
    "            print(\"Sorry, you get the wrong answer. The right answer is \" + q.get('answer'))\n",
    "            print('score: ' + str(score) + '\\n')\n",
    "    print(\"Finish! Your final score is \" + str(score))"
   ]
  },
  {
   "cell_type": "code",
   "execution_count": 9,
   "metadata": {},
   "outputs": [],
   "source": [
    "question_list = [\n",
    "    {'a': 'Liner',\n",
    "    'b': 'Warship',\n",
    "    'c': 'aircraft carrier',\n",
    "    'd': 'Canoe',\n",
    "    'question': 'What kind of vessel was the Titanic?',\n",
    "    'answer': 'b',\n",
    "    'score': 300,\n",
    "    'wrong answer': ['a', 'c', 'd']\n",
    "    },\n",
    "    {'a': 'Bubble chamber',\n",
    "    'b': 'Bubble warp',\n",
    "    'c': 'bubble bath',\n",
    "    'd': 'Bubble gum',\n",
    "    'question': 'Which of these is a type of packaging with pockets of air?',\n",
    "    'answer': 'a',\n",
    "    'score': 300,\n",
    "    'wrong answer': ['b', 'c', 'd']\n",
    "    },\n",
    "    {'a': 'Teeth',\n",
    "    'b': 'Tonsils',\n",
    "    'c': 'kidney stones',\n",
    "    'd': 'Warts',\n",
    "    'question': 'What are removed in a tonsillectomy operation?',\n",
    "    'answer': 'c',\n",
    "    'score': 300,\n",
    "    'wrong answer': ['a', 'b', 'd']\n",
    "    }, \n",
    "    {'a': 'On stilts',\n",
    "    'b': 'On credit',\n",
    "    'c': 'On points',\n",
    "    'd': 'On holiday',\n",
    "    'question': 'Which of these is a way a boxing bout can be won?',\n",
    "    'answer': 'b',\n",
    "    'score': 300,\n",
    "    'wrong answer': ['a', 'c', 'd']\n",
    "    },\n",
    "    {'a': 'Old Trafford',\n",
    "    'b': 'Wembly',\n",
    "    'c': 'Lords',\n",
    "    'd': 'Highbury',\n",
    "    'question': 'Which stadium hosted the FA cup in 1999?',\n",
    "    'answer': 'a',\n",
    "    'score': 300,\n",
    "    'wrong answer': ['b', 'c', 'd']\n",
    "    },\n",
    "    {'a': 'Top Gun',\n",
    "    'b': 'Top Pistol',\n",
    "    'c': 'Top Cup',\n",
    "    'd': 'Top Sword',\n",
    "    'question': 'Tom Cruise appeared in which of these films?',\n",
    "    'answer': 'a',\n",
    "    'score': 300,\n",
    "    'wrong answer': ['b', 'c', 'd']\n",
    "    },\n",
    "    {'a': 'Younger',\n",
    "    'b': 'Newer',\n",
    "    'c': 'Fresher',\n",
    "    'd': 'Cleaner',\n",
    "    'question': 'What name is popularly given to a first year student?',\n",
    "    'answer': 'b',\n",
    "    'score': 500,\n",
    "    'wrong answer': ['a', 'c', 'd']\n",
    "    },\n",
    "    {'a': 'Bradford',\n",
    "    'b': 'Birmingham',\n",
    "    'c': 'britol',\n",
    "    'd': 'Bath',\n",
    "    'question': 'The word \"Brummagem\" refers to which city?',\n",
    "    'answer': 'c',\n",
    "    'score': 500,\n",
    "    'wrong answer': ['a', 'b', 'd']\n",
    "    },\n",
    "    {'a': 'Thumb',\n",
    "    'b': 'Forefinger',\n",
    "    'c': 'Ring finger',\n",
    "    'd': 'Pinckle',\n",
    "    'question': 'Which finger of the hand is called \"index\" in Latin?',\n",
    "    'answer': 'a',\n",
    "    'score': 500,\n",
    "    'wrong answer': ['b', 'c', 'd']\n",
    "    }\n",
    "    ]"
   ]
  },
  {
   "cell_type": "code",
   "execution_count": 10,
   "metadata": {},
   "outputs": [
    {
     "name": "stdin",
     "output_type": "stream",
     "text": [
      "Please enter your name here:  DLK\n"
     ]
    },
    {
     "name": "stdout",
     "output_type": "stream",
     "text": [
      "Get ready for the quiz, DLK!\n",
      "\n",
      "What kind of vessel was the Titanic?\n",
      "a:Liner b:Warship c:aircraft carrier d:Canoe\n"
     ]
    },
    {
     "name": "stdin",
     "output_type": "stream",
     "text": [
      "Do you need support to filter two wrong answer (Y/N)?\n",
      "If you do so, your score would be less: \n",
      " Y\n"
     ]
    },
    {
     "name": "stdout",
     "output_type": "stream",
     "text": [
      "What kind of vessel was the Titanic?\n",
      "d: Canoe b: Warship\n"
     ]
    },
    {
     "name": "stdin",
     "output_type": "stream",
     "text": [
      "Please enter the answer here:  b\n"
     ]
    },
    {
     "name": "stdout",
     "output_type": "stream",
     "text": [
      "Your answer is : b\n",
      "Congradulation!\n",
      "\n",
      "score: 150.0\n",
      "\n",
      "Which of these is a type of packaging with pockets of air?\n",
      "a:Bubble chamber b:Bubble warp c:bubble bath d:Bubble gum\n"
     ]
    },
    {
     "name": "stdin",
     "output_type": "stream",
     "text": [
      "Do you need support to filter two wrong answer (Y/N)?\n",
      "If you do so, your score would be less: \n",
      " N\n",
      "Please enter the answer here:  a\n"
     ]
    },
    {
     "name": "stdout",
     "output_type": "stream",
     "text": [
      "Congradulation!\n",
      "\n",
      "score: 450.0\n",
      "\n",
      "What are removed in a tonsillectomy operation?\n",
      "a:Teeth b:Tonsils c:kidney stones d:Warts\n"
     ]
    },
    {
     "name": "stdin",
     "output_type": "stream",
     "text": [
      "Do you need support to filter two wrong answer (Y/N)?\n",
      "If you do so, your score would be less: \n",
      " Y\n"
     ]
    },
    {
     "name": "stdout",
     "output_type": "stream",
     "text": [
      "What are removed in a tonsillectomy operation?\n",
      "b: Tonsils c: kidney stones\n"
     ]
    },
    {
     "name": "stdin",
     "output_type": "stream",
     "text": [
      "Please enter the answer here:  c\n"
     ]
    },
    {
     "name": "stdout",
     "output_type": "stream",
     "text": [
      "Your answer is : c\n",
      "Congradulation!\n",
      "\n",
      "score: 600.0\n",
      "\n",
      "Which of these is a way a boxing bout can be won?\n",
      "a:On stilts b:On credit c:On points d:On holiday\n"
     ]
    },
    {
     "name": "stdin",
     "output_type": "stream",
     "text": [
      "Do you need support to filter two wrong answer (Y/N)?\n",
      "If you do so, your score would be less: \n",
      " N\n",
      "Please enter the answer here:  a\n"
     ]
    },
    {
     "name": "stdout",
     "output_type": "stream",
     "text": [
      "Sorry, you get the wrong answer. The right answer is b\n",
      "score: 600.0\n",
      "\n",
      "Which stadium hosted the FA cup in 1999?\n",
      "a:Old Trafford b:Wembly c:Lords d:Highbury\n"
     ]
    },
    {
     "name": "stdin",
     "output_type": "stream",
     "text": [
      "Do you need support to filter two wrong answer (Y/N)?\n",
      "If you do so, your score would be less: \n",
      " N\n",
      "Please enter the answer here:  a\n"
     ]
    },
    {
     "name": "stdout",
     "output_type": "stream",
     "text": [
      "Congradulation!\n",
      "\n",
      "score: 900.0\n",
      "\n",
      "Tom Cruise appeared in which of these films?\n",
      "a:Top Gun b:Top Pistol c:Top Cup d:Top Sword\n"
     ]
    },
    {
     "name": "stdin",
     "output_type": "stream",
     "text": [
      "Do you need support to filter two wrong answer (Y/N)?\n",
      "If you do so, your score would be less: \n",
      " N\n",
      "Please enter the answer here:  a\n"
     ]
    },
    {
     "name": "stdout",
     "output_type": "stream",
     "text": [
      "Congradulation!\n",
      "\n",
      "score: 1200.0\n",
      "\n",
      "What name is popularly given to a first year student?\n",
      "a:Younger b:Newer c:Fresher d:Cleaner\n"
     ]
    },
    {
     "name": "stdin",
     "output_type": "stream",
     "text": [
      "Do you need support to filter two wrong answer (Y/N)?\n",
      "If you do so, your score would be less: \n",
      " N\n",
      "Please enter the answer here:  b\n"
     ]
    },
    {
     "name": "stdout",
     "output_type": "stream",
     "text": [
      "Congradulation!\n",
      "\n",
      "score: 1700.0\n",
      "\n",
      "The word \"Brummagem\" refers to which city?\n",
      "a:Bradford b:Birmingham c:britol d:Bath\n"
     ]
    },
    {
     "name": "stdin",
     "output_type": "stream",
     "text": [
      "Do you need support to filter two wrong answer (Y/N)?\n",
      "If you do so, your score would be less: \n",
      " N\n",
      "Please enter the answer here:  c\n"
     ]
    },
    {
     "name": "stdout",
     "output_type": "stream",
     "text": [
      "Congradulation!\n",
      "\n",
      "score: 2200.0\n",
      "\n",
      "Which finger of the hand is called \"index\" in Latin?\n",
      "a:Thumb b:Forefinger c:Ring finger d:Pinckle\n"
     ]
    },
    {
     "name": "stdin",
     "output_type": "stream",
     "text": [
      "Do you need support to filter two wrong answer (Y/N)?\n",
      "If you do so, your score would be less: \n",
      " N\n",
      "Please enter the answer here:  c\n"
     ]
    },
    {
     "name": "stdout",
     "output_type": "stream",
     "text": [
      "Sorry, you get the wrong answer. The right answer is a\n",
      "score: 2200.0\n",
      "\n",
      "Finish! Your final score is 2200.0\n"
     ]
    }
   ],
   "source": [
    "quiz_generator(question_list)"
   ]
  }
 ],
 "metadata": {
  "kernelspec": {
   "display_name": "Python 3 (ipykernel)",
   "language": "python",
   "name": "python3"
  },
  "language_info": {
   "codemirror_mode": {
    "name": "ipython",
    "version": 3
   },
   "file_extension": ".py",
   "mimetype": "text/x-python",
   "name": "python",
   "nbconvert_exporter": "python",
   "pygments_lexer": "ipython3",
   "version": "3.8.13"
  },
  "vscode": {
   "interpreter": {
    "hash": "854cb72f729cc150a6c4843fe41daacbf4b6f8eb2cb87a2d05879af35bdce21d"
   }
  }
 },
 "nbformat": 4,
 "nbformat_minor": 4
}
