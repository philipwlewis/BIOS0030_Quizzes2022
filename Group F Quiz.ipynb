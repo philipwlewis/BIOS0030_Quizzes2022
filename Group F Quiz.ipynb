{
 "cells": [
  {
   "cell_type": "code",
   "execution_count": 40,
   "id": "a7d506d1-88c7-4ab0-903a-3b5f613ea2de",
   "metadata": {},
   "outputs": [],
   "source": [
    "import random\n",
    "from time import sleep\n",
    "\n",
    "# define constants:\n",
    "score_per_q = [\"100\", \"500\", \"2000\", \"5000\", \"10 000\", \"50 000\", \"100 000\", \"1 000 000\"]\n",
    "\n",
    "\n",
    "# define functions:\n",
    "def write_q_text(q_dict):\n",
    "    q_text = f\"\"\"\\n{q_dict['q']}\n",
    "        a - {q_dict['a']} \n",
    "        b - {q_dict['b']}\n",
    "        c - {q_dict['c']}\n",
    "        d - {q_dict['d']}\n",
    "        \"\"\"\n",
    "    return q_text\n",
    "\n",
    "def ask_question(q_dict):\n",
    "    q_text = write_q_text(q_dict)\n",
    "    print(q_text)\n",
    "    \n",
    "    user_answer = input(\"Enter a,b,c or d:\")\n",
    "    if user_answer == q_dict[\"answer\"]:\n",
    "        print(\"Correct!\")\n",
    "        return True\n",
    "    else:\n",
    "        print(f\"Oh no! That's incorrect. The correct answer was: {q_dict['answer']}. Good luck next time...\")\n",
    "        return False\n",
    "\n",
    "def lose_game():\n",
    "    print(\"Sadly, this is the end of the game for you...\")\n",
    "    sleep(3)\n",
    "    print(\"As we explained at the beginning of the game, this means you are walking home empty-handed...\")\n",
    "    sleep(3)\n",
    "    print(\"Thank you for playing and hope to see you soon!\")\n",
    "    return\n",
    "\n",
    "def win_game():\n",
    "    print(\"Congratulations! You made it to the end of the game!\")\n",
    "    sleep (1)\n",
    "    print (\"You are going homes with...\")\n",
    "    sleep(1)\n",
    "    print(\"***drums***\")\n",
    "    sleep(3)\n",
    "    print(\"1.000.000 $ !!!\")\n",
    "    sleep(1)\n",
    "    print(\"Wow you are a lucky one!\")\n",
    "    sleep(1)\n",
    "    print(\"Thank you very much for joining us tonight, see you next time!!\")\n",
    "    return\n",
    "\n",
    "def set_score(q_dict, q_number):\n",
    "    q_answer = ask_question(q_dict)\n",
    "    n = q_number\n",
    "    if q_answer == False:\n",
    "        score = 0\n",
    "        lose_game()\n",
    "        return False\n",
    "    elif q_answer == True:\n",
    "        score = score_per_q[n-1]\n",
    "        print(\"You now have $\", score, \"in your bank!!\\n\")\n",
    "        if score != \"1 000 000\":\n",
    "            continue_quiz = input(f\"This was question number {n}. Do you want to STOP the quiz and take your money home? (Yes or No)\")\n",
    "            if continue_quiz == \"No\" or continue_quiz == \"no\": \n",
    "                return True\n",
    "            elif continue_quiz == \"Yes\" or continue_quiz == \"yes\":\n",
    "                print(f\"Congratulations! You won {score}$\")\n",
    "                return False\n",
    "        if score == \"1 000 000\":\n",
    "            win_game()\n",
    "    return\n",
    "\n",
    "def random_2q_per_level(level, q_number):\n",
    "    rand_idx_1 = random.randrange(len(level))\n",
    "    random_q1 = level[rand_idx_1]\n",
    "    q1_quiz = set_score(random_q1, q_number)\n",
    "    if q1_quiz == False:\n",
    "        return False\n",
    "    level.pop(rand_idx_1)\n",
    "    edited_level = level\n",
    "    rand_idx_2 = random.randrange(len(edited_level))\n",
    "    random_q2 = edited_level[rand_idx_2]\n",
    "    q2_quiz = set_score(random_q2, q_number+1)\n",
    "    if q2_quiz == False:\n",
    "        return False     #### both questions need to be chacked for False\n",
    "    return True\n",
    "\n",
    "def all_level_questions():\n",
    "    q_number = 1\n",
    "    for i in range(4):\n",
    "        level = level_n[i]\n",
    "        quiz_question_per_level = random_2q_per_level(level, q_number)\n",
    "        q_number = q_number+2             #### 2 questions per level\n",
    "        if quiz_question_per_level == False:\n",
    "            break\n",
    "    return\n",
    "\n",
    "def start_quiz():\n",
    "    print(\"Ladies and Gentlemen!!\")\n",
    "    sleep(1.0)\n",
    "    print(\"Do you have what it takes to become a Millionaire?\")\n",
    "    sleep(2.0)\n",
    "    print(\"Our first candidate tonight is...\")\n",
    "    sleep(4.0)\n",
    "    print(\"Sorry... I forgot you name :)\")\n",
    "    sleep(1.0)\n",
    "    username = input(\"What is your name?\")\n",
    "    print(\"Give a round of applause to\", username, \"!!!\")\n",
    "    print(\"*** applause ***\\n\")\n",
    "    sleep(3.0)\n",
    "    print(\"\"\"Here's how our competition works!\n",
    "Tonight the quiz will contain 4 categories, each with increasing difficulty.\n",
    "From each category you will receive two questions: you have to answer a total of 8 questions.\n",
    "For each question you answer correctly you will be awarded a monetary prize.\n",
    "Each question you answer correctly will increase the reward value.\n",
    "However....\\n\"\"\")\n",
    "    sleep(10.0)\n",
    "\n",
    "    print(\"\"\"You must remember to tread with caution. \n",
    "Giving just one incorrect answer will terminate the quiz and you will be sent home empty handed. \n",
    "Don't be too greedy!\n",
    "You have the option to opt out of the game after each question and leave with the money you've earned.\"\"\")\n",
    "    sleep(5.0)\n",
    "\n",
    "    start_quiz = input(\"Are you ready?\")\n",
    "    if start_quiz == 'yes' or start_quiz == \"Yes\":\n",
    "        quiz_questions = all_level_questions()\n",
    "    elif start_quiz == 'no' or start_quiz == \"No\":\n",
    "        print(\"Your loss.\")"
   ]
  },
  {
   "cell_type": "code",
   "execution_count": 41,
   "id": "032a5902-4e3b-4e45-8cfb-80b1165e514f",
   "metadata": {},
   "outputs": [],
   "source": [
    "question_1 = {\n",
    "    \"q\" : \"What does H stand for in the abbreviation NHS?\",\n",
    "    \"a\" : \"Humanity\",\n",
    "    \"b\" : \"Health\",\n",
    "    \"c\" : \"Honour\", \n",
    "    \"d\" : \"Humus\",\n",
    "    \"answer\" : \"b\"\n",
    "}"
   ]
  },
  {
   "cell_type": "code",
   "execution_count": 42,
   "id": "7139f072-edd6-4773-bbad-20e7d090a9ec",
   "metadata": {},
   "outputs": [],
   "source": [
    "question_2 = {\n",
    "    \"q\" : \"How many cranial nerves are there?\",\n",
    "    \"a\" : \"12\",\n",
    "    \"b\" : \"10\",\n",
    "    \"c\" : \"11\", \n",
    "    \"d\" : \"13\",\n",
    "    \"answer\" : \"a\"\n",
    "}"
   ]
  },
  {
   "cell_type": "code",
   "execution_count": 23,
   "id": "104bf0d5-2412-4f87-8824-36e3a5816be9",
   "metadata": {},
   "outputs": [],
   "source": [
    "question_3 = {\n",
    "    \"q\" : \"The brain's supporting cells are called?\",\n",
    "    \"a\" : \"Mitochondria\",\n",
    "    \"b\" : \"Glial Cells\",\n",
    "    \"c\" : \"Neurons\", \n",
    "    \"d\" : \"Nuclei\",\n",
    "    \"answer\" : \"b\"\n",
    "}"
   ]
  },
  {
   "cell_type": "code",
   "execution_count": 24,
   "id": "63f35e9e-dcbc-4a22-a10a-af24ace5f55d",
   "metadata": {},
   "outputs": [],
   "source": [
    "question_4 = {\n",
    "    \"q\" : \"Each neuron has approximately how many synapses?\",\n",
    "    \"a\" : \"Between 10-100\",\n",
    "    \"b\" : \"Between 10,000-1,000,000\",\n",
    "    \"c\" : \"Between 100-10,000\", \n",
    "    \"d\" : \"Between 1-10\",\n",
    "    \"answer\" : \"c\"\n",
    "}"
   ]
  },
  {
   "cell_type": "code",
   "execution_count": 25,
   "id": "45ec7f10-b0c2-4aa8-851f-09131f358c71",
   "metadata": {},
   "outputs": [],
   "source": [
    "question_5 = {\n",
    "    \"q\" : \"What editing technique works by precisely cutting DNA and then letting natural DNA repair process take over?\",\n",
    "    \"a\" : \"CRISPR Cas9\",\n",
    "    \"b\" : \"Optogenetics\",\n",
    "    \"c\" : \"GFP\",\n",
    "    \"d\" : \"Gel Electrophoresis\",\n",
    "    \"answer\" : \"a\"\n",
    "}"
   ]
  },
  {
   "cell_type": "code",
   "execution_count": 26,
   "id": "43d47857-0d59-44a1-bad9-6c6b9359c1e6",
   "metadata": {},
   "outputs": [],
   "source": [
    "question_6 = {\n",
    "    \"q\" : \"Which of these ETC complexes is not a proton pump?\",\n",
    "    \"a\" : \"Complex I\",\n",
    "    \"b\" : \"Complex II\",\n",
    "    \"c\" : \"Complex III\",\n",
    "    \"d\" : \"Complex IV\",\n",
    "    \"answer\" : \"b\"\n",
    "}"
   ]
  },
  {
   "cell_type": "code",
   "execution_count": 27,
   "id": "0fcfa83e-32d2-40bc-ae53-621cb744cf2c",
   "metadata": {},
   "outputs": [],
   "source": [
    "question_7 = {\n",
    "    \"q\" : \"Which of these structures can only be found in prokaryotes?\",\n",
    "    \"a\" : \"DNA\",\n",
    "    \"b\" : \"Plasmid\",\n",
    "    \"c\" : \"Ribosomes\", \n",
    "    \"d\" : \"Cytoplasm\",\n",
    "    \"answer\" : \"b\"\n",
    "}"
   ]
  },
  {
   "cell_type": "code",
   "execution_count": 28,
   "id": "fc354b41-b18c-4a98-b44e-760e02efaccd",
   "metadata": {},
   "outputs": [],
   "source": [
    "question_8 = {\n",
    "    \"q\" : \"Which of these is a type of immunotherapy?\",\n",
    "    \"a\" : \"Car T cells therapy\",\n",
    "    \"b\" : \"Psychosurgery\",\n",
    "    \"c\" : \"Electroconvulsive treatment\",\n",
    "    \"d\" : \"Drug therapy\",\n",
    "    \"answer\" : \"a\"\n",
    "}"
   ]
  },
  {
   "cell_type": "code",
   "execution_count": 29,
   "id": "8b7400f9-c241-49ed-aa02-31ac05ea7cdf",
   "metadata": {},
   "outputs": [],
   "source": [
    "question_9 = {\n",
    "    \"q\" : \"Which of the following is not a type of post translational modification?\",\n",
    "    \"a\" : \"Proteolysis\",\n",
    "    \"b\" : \"Glycolisation\",\n",
    "    \"c\" : \"Protein folding\",\n",
    "    \"d\" : \"Lipid addition\",\n",
    "    \"answer\" : \"c\"\n",
    "}"
   ]
  },
  {
   "cell_type": "code",
   "execution_count": 30,
   "id": "f6ebad00-2078-4b9e-85aa-dd923186dd6d",
   "metadata": {},
   "outputs": [],
   "source": [
    "question_10 = {\n",
    "    \"q\" : \"How many Proteolytic cleavages produce mature insulin?\",\n",
    "    \"a\" : \"1\",\n",
    "    \"b\" : \"2\",\n",
    "    \"c\" : \"3\",\n",
    "    \"d\" : \"4\",\n",
    "    \"answer\" : \"b\"\n",
    "}"
   ]
  },
  {
   "cell_type": "code",
   "execution_count": 31,
   "id": "baf753df-a946-4177-9d67-40f085e24c1f",
   "metadata": {},
   "outputs": [],
   "source": [
    "question_11 = {\n",
    "    \"q\" : \"If the insertions of three nucleotides occur in a consecutive manner it causes which of the following type of mutation?\",\n",
    "    \"a\" : \"Missense mutation\",\n",
    "    \"b\" : \"Stop mutation\",\n",
    "    \"c\" : \"Frame shift mutation\",\n",
    "    \"d\" : \"Reverse mutation\",\n",
    "    \"answer\" : \"c\"\n",
    "}"
   ]
  },
  {
   "cell_type": "code",
   "execution_count": 32,
   "id": "1324c360-00ef-4c5c-b722-b35175c9faf9",
   "metadata": {},
   "outputs": [],
   "source": [
    "question_12 = {\n",
    "    \"q\" : \"What is the first step of protein targeting?\",\n",
    "    \"a\" : \"Synthesis of Protein\",\n",
    "    \"b\" : \"Translocation to Golgi body\",\n",
    "    \"c\" : \"Translocation to nucleus\",\n",
    "    \"d\" : \"Translocation to ER\",\n",
    "    \"answer\" : \"d\"\n",
    "}"
   ]
  },
  {
   "cell_type": "code",
   "execution_count": 33,
   "id": "52d243f6-a538-416d-bd91-e3f4980c9ae7",
   "metadata": {},
   "outputs": [],
   "source": [
    "question_13 = {\n",
    "    \"q\" : \"Which glial cells are responsible for synapse formation in the CNS?\",\n",
    "    \"a\" : \"Microglia\",\n",
    "    \"b\" : \"Astrocytes\",\n",
    "    \"c\" : \"Oligodendrocytes\",\n",
    "    \"d\" : \"Schwann cells\",\n",
    "    \"answer\" : \"b\"\n",
    "}"
   ]
  },
  {
   "cell_type": "code",
   "execution_count": 34,
   "id": "ebf9fc60-09db-47e0-9cc6-1f47c6aadf33",
   "metadata": {},
   "outputs": [],
   "source": [
    "question_14 = {\n",
    "    \"q\" : \"Which glial cells are responsible for pruning in the brain?\",\n",
    "    \"a\" : \"Microglia\",\n",
    "    \"b\" : \"Astrocytes\",\n",
    "    \"c\" : \"Oligodendrocytes\",\n",
    "    \"d\" : \"Schwann cells\",\n",
    "    \"answer\" : \"a\"\n",
    "}"
   ]
  },
  {
   "cell_type": "code",
   "execution_count": 35,
   "id": "86acb720-533f-4a11-9d3a-a0cba9f9214b",
   "metadata": {},
   "outputs": [],
   "source": [
    "question_15 = {\n",
    "    \"q\" : \"What is the function of NG2 cells?\",\n",
    "    \"a\" : \"to act as the phagocytes of the brain in response to infection\",\n",
    "    \"b\" : \"to circulate the cerebrospinal fluid\",\n",
    "    \"c\" : \"to form new myelinating oligodendrocytes in areas of the brain where demyelination has occurred\",\n",
    "    \"d\" : \"to respond to increased energy demands in the brain and allow increased blood flow by releasing vasoactive molecules\",\n",
    "    \"answer\" : \"c\"\n",
    "}"
   ]
  },
  {
   "cell_type": "code",
   "execution_count": 36,
   "id": "5bab9792-b7e9-492a-a1d9-e2835dd0e035",
   "metadata": {},
   "outputs": [],
   "source": [
    "question_16 = {\n",
    "    \"q\" : \"Which example below is not a type of protective reflex?\",\n",
    "    \"a\" : \"eyeblink\",\n",
    "    \"b\" : \"gag reflex\",\n",
    "    \"c\" : \"muscle-stretch reflex\", \n",
    "    \"d\" : \"limb withdrawl reflex\",\n",
    "    \"answer\" : \"c\"\n",
    "}"
   ]
  },
  {
   "cell_type": "code",
   "execution_count": 37,
   "id": "d85e5517-d49b-4452-b9a6-f2d8ad46b7e3",
   "metadata": {},
   "outputs": [],
   "source": [
    "level_1 = [question_1, question_2, question_3, question_4]\n",
    "level_2 = [question_5, question_6, question_7, question_8]\n",
    "level_3 = [question_9, question_10, question_11, question_12]\n",
    "level_4 = [question_13, question_14, question_15, question_16]\n",
    "\n",
    "level_n = [level_1, level_2, level_3, level_4]"
   ]
  },
  {
   "cell_type": "code",
   "execution_count": 39,
   "id": "58428d3a-8dd1-469d-8b0e-926009089f32",
   "metadata": {},
   "outputs": [
    {
     "ename": "TypeError",
     "evalue": "'NoneType' object is not callable",
     "output_type": "error",
     "traceback": [
      "\u001b[0;31m---------------------------------------------------------------------------\u001b[0m",
      "\u001b[0;31mTypeError\u001b[0m                                 Traceback (most recent call last)",
      "Cell \u001b[0;32mIn [39], line 1\u001b[0m\n\u001b[0;32m----> 1\u001b[0m start_quiz \u001b[38;5;241m=\u001b[39m \u001b[43mstart_quiz\u001b[49m\u001b[43m(\u001b[49m\u001b[43m)\u001b[49m\n",
      "\u001b[0;31mTypeError\u001b[0m: 'NoneType' object is not callable"
     ]
    }
   ],
   "source": [
    "start_quiz = start_quiz()"
   ]
  },
  {
   "cell_type": "code",
   "execution_count": null,
   "id": "90f7684b-eb33-4d6b-9251-143252ca128b",
   "metadata": {},
   "outputs": [],
   "source": []
  }
 ],
 "metadata": {
  "kernelspec": {
   "display_name": "Python 3 (ipykernel)",
   "language": "python",
   "name": "python3"
  },
  "language_info": {
   "codemirror_mode": {
    "name": "ipython",
    "version": 3
   },
   "file_extension": ".py",
   "mimetype": "text/x-python",
   "name": "python",
   "nbconvert_exporter": "python",
   "pygments_lexer": "ipython3",
   "version": "3.8.13"
  }
 },
 "nbformat": 4,
 "nbformat_minor": 5
}
