{
 "cells": [
  {
   "cell_type": "code",
   "execution_count": 5,
   "id": "ebdae8b9-7a37-4cc9-a4b9-df892631b61d",
   "metadata": {},
   "outputs": [
    {
     "name": "stdin",
     "output_type": "stream",
     "text": [
      "What is your name? H\n"
     ]
    },
    {
     "name": "stdout",
     "output_type": "stream",
     "text": [
      "Hi H, welcome to who wants to be a millionaire!\n",
      "\n",
      "Select the correct letter: A,B,C or D for each question\n",
      "\n",
      "Which of these names is not in the title of a Shakespeare play?\n",
      "A:Macbeth\n",
      "B: Darren\n",
      "C: Othello\n",
      "D: Romeo\n",
      "Would you like to answer this question or end the game here?\n"
     ]
    },
    {
     "name": "stdin",
     "output_type": "stream",
     "text": [
      "Enter Y to carry on or N to end the game here. N\n"
     ]
    },
    {
     "name": "stdout",
     "output_type": "stream",
     "text": [
      "You have earned £ 0\n",
      "Bye! Hope you play again soon.\n"
     ]
    }
   ],
   "source": [
    "class Player:\n",
    "    def __init__(self, name=''):\n",
    "        self.name= name\n",
    "        \n",
    "    def get_name(self):\n",
    "        self.name= input('What is your name?')\n",
    "\n",
    "Player=Player()\n",
    "Player.get_name()\n",
    "\n",
    "question_1='Which of these names is not in the title of a Shakespeare play?'\n",
    "answer_1= 'Darren'\n",
    "question_2='Which Disney character famously leaves a glass slipper behind at a royal ball?'\n",
    "answer_2= 'Cinderella'\n",
    "question_3='In the UK, the abbreviation NHS stands for National what Service?'\n",
    "answer_3='Health'\n",
    "question_4='Which of these animal names is also a term used to refer to a spy?'\n",
    "answer_4='Mole'\n",
    "question_5='In the childrens book series, where is Paddington Bear originally from?'\n",
    "answer_5='Peru'\n",
    "question_6='Which former Beatle narrated the TV series, Adventures of Thomas the Tank engine?'\n",
    "answer_6='Ringo Starr'\n",
    "question_7='What was the name given to the style of architectural design popluar in the 1890s?'\n",
    "answer_7='Art Nouveau'\n",
    "question_8='Who was the first Australian Prime Minister?'\n",
    "answer_8='Edmund Barton'\n",
    "question_9='Oberon is the satellite of which planet?'\n",
    "answer_9='Uranus'\n",
    "question_10='Which scientific unit is named after an Italian nobleman?'\n",
    "answer_10='Volt'\n",
    "\n",
    "questions=[question_1, question_2, question_3, question_4, question_5, question_6, question_7, question_8, question_9, question_10]\n",
    "\n",
    "answers=[answer_1, answer_2, answer_3, answer_4, answer_5, answer_6, answer_7, answer_8, answer_9, answer_10]\n",
    "\n",
    "answer_letter=['B', 'A', 'B','C','B','D','C','A','D','D']\n",
    "\n",
    "answer_options=[ 'A:Macbeth\\nB: Darren\\nC: Othello\\nD: Romeo', 'A:Cinderella\\nB: Belle\\nC: Rapunzel\\nD: Jasmine', 'A:Honour\\nB: Health\\nC: Heart\\nD:Haste',\n",
    "'A:Horse\\nB: Rabbit\\nC: Mole\\nD: Sting Ray', 'A:France\\nB: Peru\\nC: Portugal\\nD: Denmark', 'A:Paul McCartney\\nB: John Lennon\\nC: George Harrison\\nD: Ringo Starr',\n",
    "'A:Art Deco\\nB: Cubism\\nC:Art Nouveau\\nD: Baroque', 'A:Edmund Barton\\nB: Henry Parkes\\nC: Malcom Fraser\\nD: Rupert Murdoch', 'A:Mercury\\nB: Saturn\\nC: Mars\\nD: Uranus', 'A:Pascal\\nB: Ohm\\nC: Hertz\\nD: Volt' ]\n",
    "\n",
    "#These are the answer options given to the player when they choose the 50_50 lifeline\n",
    "answer_options_50_50=[ 'B: Darren\\nC: Othello', 'A:Cinderella\\nD: Jasmine', 'B: Health\\nD: Haste',\n",
    "'A:Horse\\nB: Rabbit\\nC: Mole\\nD: Sting Ray', 'A:France\\nB: Peru\\nC: Portugal\\nD: Denmark', 'A:Paul McCartney\\nB: John Lennon\\nC: George Harrison\\nD: Ringo Starr',\n",
    "'A:Art Deco\\nB: Cubism\\nC:Art Nouveau\\nD: Baroque', 'A:Edmund Barton\\nB: Henry Parkes\\nC: Malcom Fraser\\nD: Rupert Murdoch', 'A:Mercury\\nB: Saturn\\nC: Mars\\nD: Uranus', 'A:Pascal\\nB: Ohm\\nC: Hertz\\nD: Volt' ]\n",
    "money=[0,500,1000,7000,16000,40000,100000,250000,500000,750000,1_000_000]\n",
    "\n",
    "\n",
    "\n",
    "def game():\n",
    "    life_line_tally = 0\n",
    "    print('Hi',f'{Player.name}, welcome to who wants to be a millionaire!')\n",
    "    print('\\nSelect the correct letter: A,B,C or D for each question')\n",
    "  \n",
    "         \n",
    "    for i in range(len(questions)): \n",
    "            print('\\n' + questions[i])\n",
    "            print(answer_options[i])\n",
    "            #Asking the player after each question if they want to continue the game or end it there.\n",
    "            print('Would you like to answer this question or end the game here?')\n",
    "            carry_on=input('Enter Y to carry on or N to end the game here.')\n",
    "            if carry_on=='Y':\n",
    "                \n",
    "  #Adding Life lines\n",
    "  #We only managed to include the 50_50 lifeline\n",
    "  #The player is only allowed to use this lifeline once\n",
    "                if life_line_tally==0:\n",
    "                    life_line_50_50=input('Would you like to use a 50_50 lifeline?\\n Only 1 chance to use it! Y/N')\n",
    "                    if life_line_50_50=='Y':\n",
    "                        print(answer_options_50_50[i])\n",
    "                        answer=input('Answer: ')\n",
    "                        life_line_tally=life_line_tally + 1\n",
    "                \n",
    "               \n",
    "            \n",
    "                elif life_line_50_50=='Y' and life_line_tally>0:\n",
    "                           print('You can no longer use a 50_50 lifeline')\n",
    "                        \n",
    "                           answer=input('Answer: ')\n",
    "                            \n",
    "                            \n",
    "                elif life_line_50_50=='N':\n",
    "                    answer=input('Answer: ')\n",
    "                \n",
    "                \n",
    "            else:\n",
    "                print('You have earned £',money[i])\n",
    "                print('Bye! Hope you play again soon.')\n",
    "                break\n",
    "            \n",
    "            if answer in answer_letter[i]:\n",
    "                print('That is correct')\n",
    "                print('You now have £', money[i+1])\n",
    "                if  money[i+1]==1_000_000:\n",
    "                    print('Well done you are now a millionaire!')\n",
    "            \n",
    "            \n",
    "            else:\n",
    "                print('Sorry that answer is incorrect. The game ends here.')\n",
    "                print('You have earned £',money[i])\n",
    "                print('The correct answer was', answer_letter[i])\n",
    "                break\n",
    "                \n",
    "game()    "
   ]
  },
  {
   "cell_type": "code",
   "execution_count": null,
   "id": "8af276fb-ab5f-4e07-a7a7-456d7b2e2c9c",
   "metadata": {},
   "outputs": [],
   "source": []
  }
 ],
 "metadata": {
  "kernelspec": {
   "display_name": "Python 3 (ipykernel)",
   "language": "python",
   "name": "python3"
  },
  "language_info": {
   "codemirror_mode": {
    "name": "ipython",
    "version": 3
   },
   "file_extension": ".py",
   "mimetype": "text/x-python",
   "name": "python",
   "nbconvert_exporter": "python",
   "pygments_lexer": "ipython3",
   "version": "3.8.13"
  }
 },
 "nbformat": 4,
 "nbformat_minor": 5
}
