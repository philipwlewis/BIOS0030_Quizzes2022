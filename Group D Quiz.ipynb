{
 "cells": [
  {
   "cell_type": "code",
   "execution_count": 3,
   "id": "83a9fe29-f364-4834-8c53-8234f4b46b68",
   "metadata": {},
   "outputs": [],
   "source": [
    "q1 = { \n",
    "    \"q\":\"how many amino acid types exist?\",\n",
    "    \"a\":\"4\",\n",
    "    \"b\":\"20\",\n",
    "    \"c\":\"100\",\n",
    "    \"d\":\"2000\",\n",
    "    \"answer\":\"b\"\n",
    "}\n",
    "\n",
    "\n",
    "q2 = { \n",
    "    \"q\":\"what does PCR stand for?\",\n",
    "    \"a\":\"Paper Chromatography Reaction \",\n",
    "    \"b\":\"Phoshoplipid Combustion Reagent\",\n",
    "    \"c\":\"Pho Concentrated Regulon\",\n",
    "    \"d\":\"Polymerase Chain Reaction\",\n",
    "    \"answer\":\"d\"\n",
    "}\n",
    "\n",
    "q3 = { \n",
    "    \"q\":\"Which amino acid is a real amino acid not used in humans?\",\n",
    "    \"a\":\"Pyrrolysine\",\n",
    "    \"b\":\"Ascorbic Acid\",\n",
    "    \"c\":\"Selenosine\",\n",
    "    \"d\":\"Asparagate\",\n",
    "    \"answer\":\"a\"\n",
    "}\n",
    "\n",
    "q4 = { \n",
    "    \"q\":\"What does a Geiger counter measure?\",\n",
    "    \"a\":\"Blood sugar concentration\",\n",
    "    \"b\":\"Air Pressure\",\n",
    "    \"c\":\"Radiation\",\n",
    "    \"d\":\"Red Blood Cell Count\",\n",
    "    \"answer\":\"c\"\n",
    "}\n",
    "\n",
    "q5 = { \n",
    "    \"q\":\"Who painted the Girl with the Pearl Earring?\",\n",
    "    \"a\":\"Rembrandt\",\n",
    "    \"b\":\"Vermeer\",\n",
    "    \"c\":\"Van Gogh\",\n",
    "    \"d\":\"Jackson Pollock\",\n",
    "    \"answer\":\"b\"\n",
    "}\n",
    "\n",
    "q6 = { \n",
    "    \"q\":\"Where in the body would you find the medulla oblongata?\",\n",
    "    \"a\":\"Brain\",\n",
    "    \"b\":\"Spinal Cord\",\n",
    "    \"c\":\"Kidneys\",\n",
    "    \"d\":\"Bladder\",\n",
    "    \"answer\":\"a\"\n",
    "}\n",
    "\n",
    "q7 = { \n",
    "    \"q\":\"What is the capital city of Costa Rica?\",\n",
    "    \"a\":\"San Jose\",\n",
    "    \"b\":\"St Tropez\",\n",
    "    \"c\":\"Costa Rica City\",\n",
    "    \"d\":\"St Lucia\",\n",
    "    \"answer\":\"a\"\n",
    "}\n",
    "q8 = { \n",
    "    \"q\":\"Which album did Britney spears release in 2007, with the song Gimme More?\",\n",
    "    \"a\":\"Femme Fatale\",\n",
    "    \"b\":\"Piece of Me\",\n",
    "    \"c\":\"Blackout\",\n",
    "    \"d\":\"Circus\",\n",
    "    \"answer\":\"c\"\n",
    "}\n"
   ]
  },
  {
   "cell_type": "code",
   "execution_count": 4,
   "id": "9a90d2dd-0190-4e29-8f3f-678eb2536078",
   "metadata": {},
   "outputs": [],
   "source": [
    "questions_dict = {\n",
    "    \"q1\" : q1,\n",
    "    \"q2\" : q2,\n",
    "    \"q3\" : q3,\n",
    "    \"q4\" : q4,\n",
    "    \"q5\" : q5,\n",
    "    \"q6\" : q6,\n",
    "    \"q7\" : q7,\n",
    "    \"q8\" : q8,\n",
    "}"
   ]
  },
  {
   "cell_type": "code",
   "execution_count": 5,
   "id": "2d766e2d-5531-4f76-83a6-939e8c18487f",
   "metadata": {},
   "outputs": [],
   "source": [
    "def ask_question(q_dict):\n",
    "    money = 50\n",
    "    q_s = [q1,q2,q3,q4,q5,q6,q7,q8]\n",
    "    for i in q_s:\n",
    "        q_text = f\"\"\"{i['q']}\n",
    "        a - {i['a']}\n",
    "        b - {i['b']}\n",
    "        c - {i['c']}\n",
    "        d - {i['d']}\"\"\"\n",
    "        print(q_text)\n",
    "        user_answer = input(\"Enter a,b,c or d: \")\n",
    "        if user_answer == i['answer']:\n",
    "            print(\"You got it right\")\n",
    "            money = money*2\n",
    "            print(f\"you won ${money}!\")\n",
    "\n",
    "        else:\n",
    "            print(f\"Sorry that's incorrect. The correct answer was: {i['answer']}\")\n",
    "            print(f\"Game over. You lost all your money :(\")\n",
    "            break"
   ]
  },
  {
   "cell_type": "code",
   "execution_count": null,
   "id": "323796ce-8371-40e1-adb8-ceb575c1103f",
   "metadata": {},
   "outputs": [
    {
     "name": "stdout",
     "output_type": "stream",
     "text": [
      "how many amino acid types exist?\n",
      "        a - 4\n",
      "        b - 20\n",
      "        c - 100\n",
      "        d - 2000\n"
     ]
    }
   ],
   "source": [
    "ask_question(questions_dict)"
   ]
  },
  {
   "cell_type": "code",
   "execution_count": null,
   "id": "ccf7dfb2-e591-49b0-a264-0a27a5b31697",
   "metadata": {},
   "outputs": [],
   "source": []
  }
 ],
 "metadata": {
  "kernelspec": {
   "display_name": "Python 3 (ipykernel)",
   "language": "python",
   "name": "python3"
  },
  "language_info": {
   "codemirror_mode": {
    "name": "ipython",
    "version": 3
   },
   "file_extension": ".py",
   "mimetype": "text/x-python",
   "name": "python",
   "nbconvert_exporter": "python",
   "pygments_lexer": "ipython3",
   "version": "3.8.13"
  }
 },
 "nbformat": 4,
 "nbformat_minor": 5
}
